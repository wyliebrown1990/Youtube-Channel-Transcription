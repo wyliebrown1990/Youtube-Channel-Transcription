{
 "cells": [
  {
   "cell_type": "code",
   "execution_count": null,
   "id": "e9436b43-b4b6-4167-933b-ebffd59ec86b",
   "metadata": {},
   "outputs": [
    {
     "name": "stdout",
     "output_type": "stream",
     "text": [
      "Starting download of the YouTube video: https://www.youtube.com/watch?v=QddPxj2EijI\n",
      "[youtube] Extracting URL: https://www.youtube.com/watch?v=QddPxj2EijI\n",
      "[youtube] QddPxj2EijI: Downloading webpage\n",
      "[youtube] QddPxj2EijI: Downloading ios player API JSON\n",
      "[youtube] QddPxj2EijI: Downloading android player API JSON\n"
     ]
    },
    {
     "name": "stderr",
     "output_type": "stream",
     "text": [
      "WARNING: [youtube] Skipping player responses from android clients (got player responses for video \"aQvGIIdgFDM\" instead of \"QddPxj2EijI\")\n"
     ]
    },
    {
     "name": "stdout",
     "output_type": "stream",
     "text": [
      "[youtube] QddPxj2EijI: Downloading m3u8 information\n",
      "[info] QddPxj2EijI: Downloading 1 format(s): 251\n",
      "[download] Destination: docs/youtube/O11y + GPT： Better Together.webm\n",
      "[download] 100% of    1.23MiB in 00:00:00 at 3.74MiB/s   \n",
      "[ExtractAudio] Destination: docs/youtube/O11y + GPT： Better Together.mp3\n",
      "Deleting original file docs/youtube/O11y + GPT： Better Together.webm (pass -k to keep)\n",
      "Download complete. Audio file saved to docs/youtube/O11y + GPT： Better Together.mp3\n",
      "Loading Whisper model...\n",
      "Starting transcription...\n",
      "Transcription complete. Saving the transcription to a text file...\n",
      "Transcription saved to docs/youtube/O11y + GPT: Better Together.txt\n",
      " 1.0-1.1.1.1.1.1.1.1.1.1.1.1.1.1.1.1.1.1.1.1.1.1.1.1.1.1.1.1.1.1.1.1.1.1.1.1.1.1.1.1.1.1.1.1.1.1.1.1.1.1.1.1.1.1.1.1.1.1.1.1.1.1.1.1.1.1.1.1.1.1.1.1.1.1.1.1.1.1.1.1.1.1.1.1.1.1.1.1.1.1.1.1.1.1.1.1.1.1.1.1.1.1.1.1.1.1.1.1.1.1 1.0-1.1.1.1.1.1.1.1.1.1.1.1.1.1.1.1.1.1.1.1.1.1.1.1.1.1.1.1.1.1.1.1.1.1.1.1.1.1.1.1.1.1.1.1.1.1.1.1.1.1.1.1.1.1.1.1.1.1.1.1.1.1.1.1.1.1.1.1.1.1.1.1.1.1.1.1.1.1.1.1.1.1.1.1.1.1.1.1.1.1.1.1.1.1.1.1.1.1.1.1.1.1.1.1.1.1.1.1.1 2.0-1.1.1.1.1.1.1.1.1.1.1.1.1.1.1.1.1.1.1.1.1.1.1.1.1\n",
      "Starting download of the YouTube video: https://www.youtube.com/watch?v=d2xwyvsSgig\n",
      "[youtube] Extracting URL: https://www.youtube.com/watch?v=d2xwyvsSgig\n",
      "[youtube] d2xwyvsSgig: Downloading webpage\n",
      "[youtube] d2xwyvsSgig: Downloading ios player API JSON\n",
      "[youtube] d2xwyvsSgig: Downloading android player API JSON\n"
     ]
    },
    {
     "name": "stderr",
     "output_type": "stream",
     "text": [
      "WARNING: [youtube] Skipping player responses from android clients (got player responses for video \"aQvGIIdgFDM\" instead of \"d2xwyvsSgig\")\n"
     ]
    },
    {
     "name": "stdout",
     "output_type": "stream",
     "text": [
      "[youtube] d2xwyvsSgig: Downloading m3u8 information\n",
      "[info] d2xwyvsSgig: Downloading 1 format(s): 251\n",
      "[download] Destination: docs/youtube/Observe Apps, Easy Enough for a 6th Grader.webm\n",
      "[download] 100% of  979.68KiB in 00:00:00 at 3.12MiB/s   \n",
      "[ExtractAudio] Destination: docs/youtube/Observe Apps, Easy Enough for a 6th Grader.mp3\n",
      "Deleting original file docs/youtube/Observe Apps, Easy Enough for a 6th Grader.webm (pass -k to keep)\n",
      "Download complete. Audio file saved to docs/youtube/Observe Apps, Easy Enough for a 6th Grader.mp3\n",
      "Loading Whisper model...\n",
      "Starting transcription...\n",
      "Transcription complete. Saving the transcription to a text file...\n",
      "Transcription saved to docs/youtube/Observe Apps, Easy Enough for a 6th Grader.txt\n",
      " I'm gonna show you that observed apps are so easy to set up that even neat a six-grader can get up and running in seconds I love Kubernetes even though the staples at pods can't be up to in parallel. It's a real shame But hey, I'm just happy that they added an optional label selector to cube cuddle diff That brings up to parity with cube cuddle apply My friends I've been complaining about my Minecraft server going down recently, so I'm gonna set up observe And so on the app is easy First you go\n",
      "Starting download of the YouTube video: https://www.youtube.com/watch?v=UBOhYGE1RZ4\n",
      "[youtube] Extracting URL: https://www.youtube.com/watch?v=UBOhYGE1RZ4\n",
      "[youtube] UBOhYGE1RZ4: Downloading webpage\n",
      "[youtube] UBOhYGE1RZ4: Downloading ios player API JSON\n",
      "[youtube] UBOhYGE1RZ4: Downloading android player API JSON\n"
     ]
    },
    {
     "name": "stderr",
     "output_type": "stream",
     "text": [
      "WARNING: [youtube] Skipping player responses from android clients (got player responses for video \"aQvGIIdgFDM\" instead of \"UBOhYGE1RZ4\")\n"
     ]
    },
    {
     "name": "stdout",
     "output_type": "stream",
     "text": [
      "[youtube] UBOhYGE1RZ4: Downloading m3u8 information\n",
      "[info] UBOhYGE1RZ4: Downloading 1 format(s): 251\n",
      "[download] Destination: docs/youtube/Usage-based Pricing With Observe.webm\n",
      "[download] 100% of  580.58KiB in 00:00:00 at 853.64KiB/s \n",
      "[ExtractAudio] Destination: docs/youtube/Usage-based Pricing With Observe.mp3\n",
      "Deleting original file docs/youtube/Usage-based Pricing With Observe.webm (pass -k to keep)\n",
      "Download complete. Audio file saved to docs/youtube/Usage-based Pricing With Observe.mp3\n",
      "Loading Whisper model...\n",
      "Starting transcription...\n",
      "Transcription complete. Saving the transcription to a text file...\n",
      "Transcription saved to docs/youtube/Usage-based Pricing With Observe.txt\n",
      " 마실 날이자oured Fortunately only sliced 됐다.\n",
      "Starting download of the YouTube video: https://www.youtube.com/watch?v=cYrJ8VsW4W0\n",
      "[youtube] Extracting URL: https://www.youtube.com/watch?v=cYrJ8VsW4W0\n",
      "[youtube] cYrJ8VsW4W0: Downloading webpage\n",
      "[youtube] cYrJ8VsW4W0: Downloading ios player API JSON\n",
      "[youtube] cYrJ8VsW4W0: Downloading android player API JSON\n"
     ]
    },
    {
     "name": "stderr",
     "output_type": "stream",
     "text": [
      "WARNING: [youtube] Skipping player responses from android clients (got player responses for video \"aQvGIIdgFDM\" instead of \"cYrJ8VsW4W0\")\n"
     ]
    },
    {
     "name": "stdout",
     "output_type": "stream",
     "text": [
      "[youtube] cYrJ8VsW4W0: Downloading m3u8 information\n",
      "[info] cYrJ8VsW4W0: Downloading 1 format(s): 251\n",
      "[download] Destination: docs/youtube/Observe Backend Efficiency Boosts.webm\n",
      "[download] 100% of    1.07MiB in 00:00:00 at 2.48MiB/s   \n",
      "[ExtractAudio] Destination: docs/youtube/Observe Backend Efficiency Boosts.mp3\n",
      "Deleting original file docs/youtube/Observe Backend Efficiency Boosts.webm (pass -k to keep)\n",
      "Download complete. Audio file saved to docs/youtube/Observe Backend Efficiency Boosts.mp3\n",
      "Loading Whisper model...\n",
      "Starting transcription...\n",
      "Transcription complete. Saving the transcription to a text file...\n",
      "Transcription saved to docs/youtube/Observe Backend Efficiency Boosts.txt\n",
      " We continuously make efficiency improvements to our back end to save our customers' time and money when using observe. Some highlights from recent work. A 75-95% reduction in transform costs for resource datasets with semi-structured fields, that means JSON. Incremental streaming implementations of most aggregate functions that includes min, max, average, percentile and count distinct, which are found in many monitor definitions. Streaming aggregation reduces transform costs by large factor whe\n",
      "Starting download of the YouTube video: https://www.youtube.com/watch?v=hPT5mg8vJvg\n",
      "[youtube] Extracting URL: https://www.youtube.com/watch?v=hPT5mg8vJvg\n",
      "[youtube] hPT5mg8vJvg: Downloading webpage\n",
      "[youtube] hPT5mg8vJvg: Downloading ios player API JSON\n",
      "[youtube] hPT5mg8vJvg: Downloading android player API JSON\n"
     ]
    },
    {
     "name": "stderr",
     "output_type": "stream",
     "text": [
      "WARNING: [youtube] Skipping player responses from android clients (got player responses for video \"aQvGIIdgFDM\" instead of \"hPT5mg8vJvg\")\n"
     ]
    },
    {
     "name": "stdout",
     "output_type": "stream",
     "text": [
      "[youtube] hPT5mg8vJvg: Downloading m3u8 information\n",
      "[info] hPT5mg8vJvg: Downloading 1 format(s): 251\n",
      "[download] Destination: docs/youtube/Observe's New Architecture and Live Mode for Improved Queries.webm\n",
      "[download] 100% of    2.27MiB in 00:00:00 at 11.82MiB/s  \n",
      "[ExtractAudio] Destination: docs/youtube/Observe's New Architecture and Live Mode for Improved Queries.mp3\n",
      "Deleting original file docs/youtube/Observe's New Architecture and Live Mode for Improved Queries.webm (pass -k to keep)\n",
      "Download complete. Audio file saved to docs/youtube/Observe's New Architecture and Live Mode for Improved Queries.mp3\n",
      "Loading Whisper model...\n",
      "Starting transcription...\n",
      "Transcription complete. Saving the transcription to a text file...\n",
      "Transcription saved to docs/youtube/Observe's New Architecture and Live Mode for Improved Queries.txt\n",
      " In Hubble, observe scaled its core engine in data loading, query performance, and a data management to meet the enterprise requirements of today and tomorrow. First, data loading. Observe already loads hundreds of terabytes data a day for production users. To plan for their future expansion, we have added parallel inserts and time-partition tables to scale to over one petabyte a day. With Hubble, we are also introducing live mode, which helps incidents on core immediately see the effect of a fi\n",
      "Starting download of the YouTube video: https://www.youtube.com/watch?v=wNNZAxU1XIY\n",
      "[youtube] Extracting URL: https://www.youtube.com/watch?v=wNNZAxU1XIY\n",
      "[youtube] wNNZAxU1XIY: Downloading webpage\n",
      "[youtube] wNNZAxU1XIY: Downloading ios player API JSON\n",
      "[youtube] wNNZAxU1XIY: Downloading android player API JSON\n"
     ]
    },
    {
     "name": "stderr",
     "output_type": "stream",
     "text": [
      "WARNING: [youtube] Skipping player responses from android clients (got player responses for video \"aQvGIIdgFDM\" instead of \"wNNZAxU1XIY\")\n"
     ]
    },
    {
     "name": "stdout",
     "output_type": "stream",
     "text": [
      "[youtube] wNNZAxU1XIY: Downloading m3u8 information\n",
      "[info] wNNZAxU1XIY: Downloading 1 format(s): 251\n",
      "[download] Destination: docs/youtube/Stop Pony'ing Up For Legacy Vendors.webm\n",
      "[download] 100% of    1.00MiB in 00:00:00 at 3.19MiB/s   \n",
      "[ExtractAudio] Destination: docs/youtube/Stop Pony'ing Up For Legacy Vendors.mp3\n",
      "Deleting original file docs/youtube/Stop Pony'ing Up For Legacy Vendors.webm (pass -k to keep)\n",
      "Download complete. Audio file saved to docs/youtube/Stop Pony'ing Up For Legacy Vendors.mp3\n",
      "Loading Whisper model...\n",
      "Starting transcription...\n",
      "Transcription complete. Saving the transcription to a text file...\n",
      "Transcription saved to docs/youtube/Stop Pony'ing Up For Legacy Vendors.txt\n",
      " //Intro Music//\n",
      "Starting download of the YouTube video: https://www.youtube.com/watch?v=ygOfE_REYBw\n",
      "[youtube] Extracting URL: https://www.youtube.com/watch?v=ygOfE_REYBw\n",
      "[youtube] ygOfE_REYBw: Downloading webpage\n",
      "[youtube] ygOfE_REYBw: Downloading ios player API JSON\n",
      "[youtube] ygOfE_REYBw: Downloading android player API JSON\n"
     ]
    },
    {
     "name": "stderr",
     "output_type": "stream",
     "text": [
      "WARNING: [youtube] Skipping player responses from android clients (got player responses for video \"aQvGIIdgFDM\" instead of \"ygOfE_REYBw\")\n"
     ]
    },
    {
     "name": "stdout",
     "output_type": "stream",
     "text": [
      "[youtube] ygOfE_REYBw: Downloading m3u8 information\n",
      "[info] ygOfE_REYBw: Downloading 1 format(s): 251\n",
      "[download] Destination: docs/youtube/Observe Founders on Why We Created Observe.webm\n",
      "[download] 100% of    3.73MiB in 00:00:00 at 10.00MiB/s  \n",
      "[ExtractAudio] Destination: docs/youtube/Observe Founders on Why We Created Observe.mp3\n",
      "Deleting original file docs/youtube/Observe Founders on Why We Created Observe.webm (pass -k to keep)\n",
      "Download complete. Audio file saved to docs/youtube/Observe Founders on Why We Created Observe.mp3\n",
      "Loading Whisper model...\n",
      "Starting transcription...\n",
      "Transcription complete. Saving the transcription to a text file...\n",
      "Transcription saved to docs/youtube/Observe Founders on Why We Created Observe.txt\n",
      " We have tens of billions of dollars spent on machine analytics, but the problem is that the systems that were built were all built decades ago, you know, a decade or more ago. And they were built for a different world. And this was one of those things we had butterflies in our stomach. We weren't sure if we could actually build this thing. You talked to customers and they would tell you, you know, yeah, we have an APM tool, we have a log management tool, we have an alerting tool, maybe in some \n",
      "Starting download of the YouTube video: https://www.youtube.com/watch?v=gxf2kr7IAL8\n",
      "[youtube] Extracting URL: https://www.youtube.com/watch?v=gxf2kr7IAL8\n",
      "[youtube] gxf2kr7IAL8: Downloading webpage\n",
      "[youtube] gxf2kr7IAL8: Downloading ios player API JSON\n",
      "[youtube] gxf2kr7IAL8: Downloading android player API JSON\n"
     ]
    },
    {
     "name": "stderr",
     "output_type": "stream",
     "text": [
      "WARNING: [youtube] Skipping player responses from android clients (got player responses for video \"aQvGIIdgFDM\" instead of \"gxf2kr7IAL8\")\n"
     ]
    },
    {
     "name": "stdout",
     "output_type": "stream",
     "text": [
      "[youtube] gxf2kr7IAL8: Downloading m3u8 information\n",
      "[info] gxf2kr7IAL8: Downloading 1 format(s): 251\n",
      "[download] Destination: docs/youtube/Observe Metric Explorer.webm\n",
      "[download] 100% of    1.01MiB in 00:00:00 at 6.42MiB/s   \n",
      "[ExtractAudio] Destination: docs/youtube/Observe Metric Explorer.mp3\n",
      "Deleting original file docs/youtube/Observe Metric Explorer.webm (pass -k to keep)\n",
      "Download complete. Audio file saved to docs/youtube/Observe Metric Explorer.mp3\n",
      "Loading Whisper model...\n",
      "Starting transcription...\n",
      "Transcription complete. Saving the transcription to a text file...\n",
      "Transcription saved to docs/youtube/Observe Metric Explorer.txt\n",
      " Welcome to Observe. A great way to investigate metrics in your environment is through the metric explorer here available on the left hand menu. The first thing you want to do is search for your specific metric. Here I can search for my demo data memory to see related container memory usage metrics. Once selected, I can see this metric here visualized in the explorer and then I can use the expression builder to then search to specific fields like the container to specify my specific recommendati\n",
      "Starting download of the YouTube video: https://www.youtube.com/watch?v=0yUmYiUGQuk\n",
      "[youtube] Extracting URL: https://www.youtube.com/watch?v=0yUmYiUGQuk\n",
      "[youtube] 0yUmYiUGQuk: Downloading webpage\n",
      "[youtube] 0yUmYiUGQuk: Downloading ios player API JSON\n",
      "[youtube] 0yUmYiUGQuk: Downloading android player API JSON\n"
     ]
    },
    {
     "name": "stderr",
     "output_type": "stream",
     "text": [
      "WARNING: [youtube] Skipping player responses from android clients (got player responses for video \"aQvGIIdgFDM\" instead of \"0yUmYiUGQuk\")\n"
     ]
    },
    {
     "name": "stdout",
     "output_type": "stream",
     "text": [
      "[youtube] 0yUmYiUGQuk: Downloading m3u8 information\n",
      "[info] 0yUmYiUGQuk: Downloading 1 format(s): 251\n",
      "[download] Destination: docs/youtube/Customer Spotlight： TopGolf ｜ A hole in one for Observability.webm\n",
      "[download] 100% of    3.21MiB in 00:00:00 at 7.29MiB/s   \n",
      "[ExtractAudio] Destination: docs/youtube/Customer Spotlight： TopGolf ｜ A hole in one for Observability.mp3\n",
      "Deleting original file docs/youtube/Customer Spotlight： TopGolf ｜ A hole in one for Observability.webm (pass -k to keep)\n",
      "Download complete. Audio file saved to docs/youtube/Customer Spotlight： TopGolf ｜ A hole in one for Observability.mp3\n",
      "Loading Whisper model...\n",
      "Starting transcription...\n",
      "Transcription complete. Saving the transcription to a text file...\n",
      "Transcription saved to docs/youtube/Customer Spotlight: TopGolf | A hole in one for Observability.txt\n",
      " My name's Ethan Lilly and the engineering manager over here at Topgolf. I've been at Topgolf for two and a half years now. When I was growing up, the stars was the 90s. They were just making it big here in Dallas and they ended up winning the Cup in 99 and that's when I really got into hockey. I used to just play out in the street with some of my friends. It's one of the few sports I'm actually decent at. I mean, I always grew up around computers. I don't even remember the first computer we had\n",
      "Starting download of the YouTube video: https://www.youtube.com/watch?v=DmmihFwmfY4\n",
      "[youtube] Extracting URL: https://www.youtube.com/watch?v=DmmihFwmfY4\n",
      "[youtube] DmmihFwmfY4: Downloading webpage\n",
      "[youtube] DmmihFwmfY4: Downloading ios player API JSON\n",
      "[youtube] DmmihFwmfY4: Downloading android player API JSON\n"
     ]
    },
    {
     "name": "stderr",
     "output_type": "stream",
     "text": [
      "WARNING: [youtube] Skipping player responses from android clients (got player responses for video \"aQvGIIdgFDM\" instead of \"DmmihFwmfY4\")\n"
     ]
    },
    {
     "name": "stdout",
     "output_type": "stream",
     "text": [
      "[youtube] DmmihFwmfY4: Downloading m3u8 information\n",
      "[info] DmmihFwmfY4: Downloading 1 format(s): 251\n",
      "[download] Destination: docs/youtube/O11y GPT - Troubleshoot Incidents Faster.webm\n",
      "[download] 100% of    2.78MiB in 00:00:00 at 8.31MiB/s   \n",
      "[ExtractAudio] Destination: docs/youtube/O11y GPT - Troubleshoot Incidents Faster.mp3\n",
      "Deleting original file docs/youtube/O11y GPT - Troubleshoot Incidents Faster.webm (pass -k to keep)\n",
      "Download complete. Audio file saved to docs/youtube/O11y GPT - Troubleshoot Incidents Faster.mp3\n",
      "Loading Whisper model...\n",
      "Starting transcription...\n",
      "Transcription complete. Saving the transcription to a text file...\n",
      "Transcription saved to docs/youtube/O11y GPT - Troubleshoot Incidents Faster.txt\n",
      " When Siri and Alexa came out, they changed how we interact with our devices. Now that generative AI, like chat GPT, is available, is changing how we interact with our tools. All EGPT is observed generative AI assistance to help users troubleshoot incidents faster. Observe users can ask questions in plain English using a familiar chatbot interface to fetch data, extract fields, and make sense of error messages, and much more. All EGPT can even act as an assistant for on-call engineers to remedi \n",
      "Starting download of the YouTube video: https://www.youtube.com/watch?v=hiGO5owb94w\n",
      "[youtube] Extracting URL: https://www.youtube.com/watch?v=hiGO5owb94w\n",
      "[youtube] hiGO5owb94w: Downloading webpage\n",
      "[youtube] hiGO5owb94w: Downloading ios player API JSON\n",
      "[youtube] hiGO5owb94w: Downloading android player API JSON\n"
     ]
    },
    {
     "name": "stderr",
     "output_type": "stream",
     "text": [
      "WARNING: [youtube] Skipping player responses from android clients (got player responses for video \"aQvGIIdgFDM\" instead of \"hiGO5owb94w\")\n"
     ]
    },
    {
     "name": "stdout",
     "output_type": "stream",
     "text": [
      "[youtube] hiGO5owb94w: Downloading m3u8 information\n",
      "[youtube] hiGO5owb94w: Downloading MPD manifest\n",
      "[info] hiGO5owb94w: Downloading 1 format(s): 251\n",
      "[download] Destination: docs/youtube/Observe Direct： Fall 2022 Demo.webm\n",
      "[download] 100% of    3.59MiB in 00:00:00 at 5.23MiB/s   \n",
      "[ExtractAudio] Destination: docs/youtube/Observe Direct： Fall 2022 Demo.mp3\n",
      "Deleting original file docs/youtube/Observe Direct： Fall 2022 Demo.webm (pass -k to keep)\n",
      "Download complete. Audio file saved to docs/youtube/Observe Direct： Fall 2022 Demo.mp3\n",
      "Loading Whisper model...\n",
      "Starting transcription...\n",
      "Transcription complete. Saving the transcription to a text file...\n",
      "Transcription saved to docs/youtube/Observe Direct: Fall 2022 Demo.txt\n",
      " Hello and welcome. My name is Kelsey and I work on our sales engineering team here at Observe. And today I'm going to walk through a demo of the observability cloud. Data is ingested into Observe using open source collectors and does not require certain schemas or structures, reducing operational overhead. Here you can see high level stats of the data you have stored. There's about 70 or so terabytes in data in total, which includes various log data, permethiast metrics, hotel traces, and even \n",
      "Starting download of the YouTube video: https://www.youtube.com/watch?v=Mem_Bxq2Apw\n",
      "[youtube] Extracting URL: https://www.youtube.com/watch?v=Mem_Bxq2Apw\n",
      "[youtube] Mem_Bxq2Apw: Downloading webpage\n",
      "[youtube] Mem_Bxq2Apw: Downloading ios player API JSON\n",
      "[youtube] Mem_Bxq2Apw: Downloading android player API JSON\n"
     ]
    },
    {
     "name": "stderr",
     "output_type": "stream",
     "text": [
      "WARNING: [youtube] Skipping player responses from android clients (got player responses for video \"aQvGIIdgFDM\" instead of \"Mem_Bxq2Apw\")\n"
     ]
    },
    {
     "name": "stdout",
     "output_type": "stream",
     "text": [
      "[youtube] Mem_Bxq2Apw: Downloading m3u8 information\n",
      "[info] Mem_Bxq2Apw: Downloading 1 format(s): 251\n",
      "[download] Destination: docs/youtube/Observe Founders on Alerts & Metrics.webm\n",
      "[download] 100% of    3.05MiB in 00:00:01 at 2.80MiB/s   \n",
      "[ExtractAudio] Destination: docs/youtube/Observe Founders on Alerts & Metrics.mp3\n",
      "Deleting original file docs/youtube/Observe Founders on Alerts & Metrics.webm (pass -k to keep)\n",
      "Download complete. Audio file saved to docs/youtube/Observe Founders on Alerts & Metrics.mp3\n",
      "Loading Whisper model...\n",
      "Starting transcription...\n",
      "Transcription complete. Saving the transcription to a text file...\n",
      "Transcription saved to docs/youtube/Observe Founders on Alerts & Metrics.txt\n",
      " In most metrics products, you're dropped into a sea of often cryptically named metrics, with little knowledge of how to get the right metric for the situation you're in, or even how to get that metric drawn correctly. Alright, so typical situation. There's a problem with X. What metrics can I find that might tell me about X? You're scrolling through pages and pages of dashboards trying to find something as relevant. You don't find it now browsing through thousands and thousands of raw metrics o\n",
      "Starting download of the YouTube video: https://www.youtube.com/watch?v=c5pIgxoilHY\n",
      "[youtube] Extracting URL: https://www.youtube.com/watch?v=c5pIgxoilHY\n",
      "[youtube] c5pIgxoilHY: Downloading webpage\n",
      "[youtube] c5pIgxoilHY: Downloading ios player API JSON\n",
      "[youtube] c5pIgxoilHY: Downloading android player API JSON\n"
     ]
    },
    {
     "name": "stderr",
     "output_type": "stream",
     "text": [
      "WARNING: [youtube] Skipping player responses from android clients (got player responses for video \"aQvGIIdgFDM\" instead of \"c5pIgxoilHY\")\n"
     ]
    },
    {
     "name": "stdout",
     "output_type": "stream",
     "text": [
      "[youtube] c5pIgxoilHY: Downloading m3u8 information\n",
      "[youtube] c5pIgxoilHY: Downloading MPD manifest\n",
      "[info] c5pIgxoilHY: Downloading 1 format(s): 251\n",
      "[download] Destination: docs/youtube/Introducing the OpenTelemetry App for Observe.webm\n",
      "[download] 100% of    1.15MiB in 00:00:00 at 6.96MiB/s   \n",
      "[ExtractAudio] Destination: docs/youtube/Introducing the OpenTelemetry App for Observe.mp3\n",
      "Deleting original file docs/youtube/Introducing the OpenTelemetry App for Observe.webm (pass -k to keep)\n",
      "Download complete. Audio file saved to docs/youtube/Introducing the OpenTelemetry App for Observe.mp3\n",
      "Loading Whisper model...\n",
      "Starting transcription...\n",
      "Transcription complete. Saving the transcription to a text file...\n",
      "Transcription saved to docs/youtube/Introducing the OpenTelemetry App for Observe.txt\n",
      " Since our launch, we've had customers using Observe to store, analyze, and alert on their open telemetry data. The feedback we received from these early adopters is a like a more prescriptive out-of-the-box solution for troubleshooting their microservice applications instrument with Open Telemetry. Today, I'm happy to announce the new Observe app for Open Telemetry, which does just that. We're firm believers in Open Telemetry's vision of commodity, vendor-neutral data collection, and as a resul\n",
      "Starting download of the YouTube video: https://www.youtube.com/watch?v=-JWzYdxHdbM\n",
      "[youtube] Extracting URL: https://www.youtube.com/watch?v=-JWzYdxHdbM\n",
      "[youtube] -JWzYdxHdbM: Downloading webpage\n",
      "[youtube] -JWzYdxHdbM: Downloading ios player API JSON\n",
      "[youtube] -JWzYdxHdbM: Downloading android player API JSON\n"
     ]
    },
    {
     "name": "stderr",
     "output_type": "stream",
     "text": [
      "WARNING: [youtube] Skipping player responses from android clients (got player responses for video \"aQvGIIdgFDM\" instead of \"-JWzYdxHdbM\")\n"
     ]
    },
    {
     "name": "stdout",
     "output_type": "stream",
     "text": [
      "[youtube] -JWzYdxHdbM: Downloading m3u8 information\n",
      "[info] -JWzYdxHdbM: Downloading 1 format(s): 251\n",
      "[download] Destination: docs/youtube/o11y BS Detector： Tags.webm\n",
      "[download] 100% of  513.04KiB in 00:00:00 at 1.18MiB/s   \n",
      "[ExtractAudio] Destination: docs/youtube/o11y BS Detector： Tags.mp3\n",
      "Deleting original file docs/youtube/o11y BS Detector： Tags.webm (pass -k to keep)\n",
      "Download complete. Audio file saved to docs/youtube/o11y BS Detector： Tags.mp3\n",
      "Loading Whisper model...\n",
      "Starting transcription...\n",
      "Transcription complete. Saving the transcription to a text file...\n",
      "Transcription saved to docs/youtube/o11y BS Detector: Tags.txt\n",
      " Կְִִִִִִִִִִִևְִִִ֍ִցִֵֹֿ֮־ւֻ, aocracy jetz everu  AD vard\n",
      "Starting download of the YouTube video: https://www.youtube.com/watch?v=j88bo0Zagwk\n",
      "[youtube] Extracting URL: https://www.youtube.com/watch?v=j88bo0Zagwk\n",
      "[youtube] j88bo0Zagwk: Downloading webpage\n",
      "[youtube] j88bo0Zagwk: Downloading ios player API JSON\n",
      "[youtube] j88bo0Zagwk: Downloading android player API JSON\n"
     ]
    },
    {
     "name": "stderr",
     "output_type": "stream",
     "text": [
      "WARNING: [youtube] Skipping player responses from android clients (got player responses for video \"aQvGIIdgFDM\" instead of \"j88bo0Zagwk\")\n"
     ]
    },
    {
     "name": "stdout",
     "output_type": "stream",
     "text": [
      "[youtube] j88bo0Zagwk: Downloading m3u8 information\n",
      "[youtube] j88bo0Zagwk: Downloading MPD manifest\n",
      "[info] j88bo0Zagwk: Downloading 1 format(s): 251\n",
      "[download] Destination: docs/youtube/Improved Data Processing With OPAL.webm\n",
      "[download] 100% of  932.91KiB in 00:00:00 at 2.81MiB/s   \n",
      "[ExtractAudio] Destination: docs/youtube/Improved Data Processing With OPAL.mp3\n",
      "Deleting original file docs/youtube/Improved Data Processing With OPAL.webm (pass -k to keep)\n",
      "Download complete. Audio file saved to docs/youtube/Improved Data Processing With OPAL.mp3\n",
      "Loading Whisper model...\n",
      "Starting transcription...\n",
      "Transcription complete. Saving the transcription to a text file...\n",
      "Transcription saved to docs/youtube/Improved Data Processing With OPAL.txt\n",
      " We keep refining our query language, OPPO, that powers all the data processing and observe. And here are a few highlights. I sometimes want to merge loglines to combine JavaScript traces into a single event, or debounds noisy sensory data. We added a powerful verb called merge events, which lets me do just that. And with Schemaun Reed, I can always go back and change it later and see it update my view of the past. Once I find the event I'm looking for, I can use the surrounding feature to find \n",
      "Starting download of the YouTube video: https://www.youtube.com/watch?v=ttFFFzskkMw\n",
      "[youtube] Extracting URL: https://www.youtube.com/watch?v=ttFFFzskkMw\n",
      "[youtube] ttFFFzskkMw: Downloading webpage\n",
      "[youtube] ttFFFzskkMw: Downloading ios player API JSON\n",
      "[youtube] ttFFFzskkMw: Downloading android player API JSON\n"
     ]
    },
    {
     "name": "stderr",
     "output_type": "stream",
     "text": [
      "WARNING: [youtube] Skipping player responses from android clients (got player responses for video \"aQvGIIdgFDM\" instead of \"ttFFFzskkMw\")\n"
     ]
    },
    {
     "name": "stdout",
     "output_type": "stream",
     "text": [
      "[youtube] ttFFFzskkMw: Downloading m3u8 information\n",
      "[youtube] ttFFFzskkMw: Downloading MPD manifest\n",
      "[info] ttFFFzskkMw: Downloading 1 format(s): 251\n",
      "[download] Destination: docs/youtube/Say Goodbye to Institutional Knowledge.webm\n",
      "[download] 100% of  768.53KiB in 00:00:00 at 2.51MiB/s   \n",
      "[ExtractAudio] Destination: docs/youtube/Say Goodbye to Institutional Knowledge.mp3\n",
      "Deleting original file docs/youtube/Say Goodbye to Institutional Knowledge.webm (pass -k to keep)\n",
      "Download complete. Audio file saved to docs/youtube/Say Goodbye to Institutional Knowledge.mp3\n",
      "Loading Whisper model...\n",
      "Starting transcription...\n",
      "Transcription complete. Saving the transcription to a text file...\n",
      "Transcription saved to docs/youtube/Say Goodbye to Institutional Knowledge.txt\n",
      " Take a gentlemen Jack! Taht sleeping delivery back to the station Gem footage same as the battery Daa s\n",
      "Starting download of the YouTube video: https://www.youtube.com/watch?v=3sX1fmRyb3o\n",
      "[youtube] Extracting URL: https://www.youtube.com/watch?v=3sX1fmRyb3o\n",
      "[youtube] 3sX1fmRyb3o: Downloading webpage\n",
      "[youtube] 3sX1fmRyb3o: Downloading ios player API JSON\n",
      "[youtube] 3sX1fmRyb3o: Downloading android player API JSON\n"
     ]
    },
    {
     "name": "stderr",
     "output_type": "stream",
     "text": [
      "WARNING: [youtube] Skipping player responses from android clients (got player responses for video \"aQvGIIdgFDM\" instead of \"3sX1fmRyb3o\")\n"
     ]
    },
    {
     "name": "stdout",
     "output_type": "stream",
     "text": [
      "[youtube] 3sX1fmRyb3o: Downloading m3u8 information\n",
      "[info] 3sX1fmRyb3o: Downloading 1 format(s): 251\n",
      "[download] Destination: docs/youtube/Observe helps Topgolf Resolve Incidents Faster.webm\n",
      "[download] 100% of    1.78MiB in 00:00:00 at 11.13MiB/s  \n",
      "[ExtractAudio] Destination: docs/youtube/Observe helps Topgolf Resolve Incidents Faster.mp3\n",
      "Deleting original file docs/youtube/Observe helps Topgolf Resolve Incidents Faster.webm (pass -k to keep)\n",
      "Download complete. Audio file saved to docs/youtube/Observe helps Topgolf Resolve Incidents Faster.mp3\n",
      "Loading Whisper model...\n",
      "Starting transcription...\n",
      "Transcription complete. Saving the transcription to a text file...\n",
      "Transcription saved to docs/youtube/Observe helps Topgolf Resolve Incidents Faster.txt\n",
      " Hi, my name is Ethan Lilly. I'm a senior engineering manager here at Topgolf And I've been here for about four and a half years and I love it here It's a great place to work observability is very important to us at Topgolf Technology is is what drives the whole venue if if any one piece goes down It could affect the entire player experience from the games to getting into your bay to just making a reservation online So we have to make sure everything is up and running at all times So before we u\n",
      "Starting download of the YouTube video: https://www.youtube.com/watch?v=WJuO1WYxXz8\n",
      "[youtube] Extracting URL: https://www.youtube.com/watch?v=WJuO1WYxXz8\n",
      "[youtube] WJuO1WYxXz8: Downloading webpage\n",
      "[youtube] WJuO1WYxXz8: Downloading ios player API JSON\n",
      "[youtube] WJuO1WYxXz8: Downloading android player API JSON\n"
     ]
    },
    {
     "name": "stderr",
     "output_type": "stream",
     "text": [
      "WARNING: [youtube] Skipping player responses from android clients (got player responses for video \"aQvGIIdgFDM\" instead of \"WJuO1WYxXz8\")\n"
     ]
    },
    {
     "name": "stdout",
     "output_type": "stream",
     "text": [
      "[youtube] WJuO1WYxXz8: Downloading m3u8 information\n",
      "[info] WJuO1WYxXz8: Downloading 1 format(s): 251\n",
      "[download] Destination: docs/youtube/Automated Data Correlation for Root Cause Analysis with GraphLink.webm\n",
      "[download] 100% of   16.49MiB in 00:00:00 at 26.80MiB/s    \n",
      "[ExtractAudio] Destination: docs/youtube/Automated Data Correlation for Root Cause Analysis with GraphLink.mp3\n",
      "Deleting original file docs/youtube/Automated Data Correlation for Root Cause Analysis with GraphLink.webm (pass -k to keep)\n",
      "Download complete. Audio file saved to docs/youtube/Automated Data Correlation for Root Cause Analysis with GraphLink.mp3\n",
      "Loading Whisper model...\n",
      "Starting transcription...\n",
      "Transcription complete. Saving the transcription to a text file...\n",
      "Transcription saved to docs/youtube/Automated Data Correlation for Root Cause Analysis with GraphLink.txt\n",
      " Hello and welcome to the Observability Trends webinar series. I'm Grant Swanson, your host, and today we will explore the topic of automated data correlation for root cause analysis with GraphLink. We will start with a short overview presentation that highlights this unique feature, followed by a live product demo. And on the webinar we'll receive an email with a link to the webinar recording. For those interested, we will be conducting a DevOps and SRE observability workshop on May 9th where a\n",
      "Starting download of the YouTube video: https://www.youtube.com/watch?v=f0aKRMfJ4eY\n",
      "[youtube] Extracting URL: https://www.youtube.com/watch?v=f0aKRMfJ4eY\n",
      "[youtube] f0aKRMfJ4eY: Downloading webpage\n",
      "[youtube] f0aKRMfJ4eY: Downloading ios player API JSON\n",
      "[youtube] f0aKRMfJ4eY: Downloading android player API JSON\n"
     ]
    },
    {
     "name": "stderr",
     "output_type": "stream",
     "text": [
      "WARNING: [youtube] Skipping player responses from android clients (got player responses for video \"aQvGIIdgFDM\" instead of \"f0aKRMfJ4eY\")\n"
     ]
    },
    {
     "name": "stdout",
     "output_type": "stream",
     "text": [
      "[youtube] f0aKRMfJ4eY: Downloading player b05eda73\n",
      "[youtube] f0aKRMfJ4eY: Downloading m3u8 information\n",
      "[info] f0aKRMfJ4eY: Downloading 1 format(s): 251\n",
      "[download] Destination: docs/youtube/Webinar： Observability Best Practices for Multi-Cloud Environments.webm\n",
      "[download] 100% of   22.87MiB in 00:00:03 at 6.25MiB/s     \n",
      "[ExtractAudio] Destination: docs/youtube/Webinar： Observability Best Practices for Multi-Cloud Environments.mp3\n",
      "Deleting original file docs/youtube/Webinar： Observability Best Practices for Multi-Cloud Environments.webm (pass -k to keep)\n",
      "Download complete. Audio file saved to docs/youtube/Webinar： Observability Best Practices for Multi-Cloud Environments.mp3\n",
      "Loading Whisper model...\n",
      "Starting transcription...\n",
      "Transcription complete. Saving the transcription to a text file...\n",
      "Transcription saved to docs/youtube/Webinar: Observability Best Practices for Multi-Cloud Environments.txt\n",
      " Hello and welcome to the observability trends webinar series. I'm Grant Swanson, your host for today's session. We will be talking about observability best practices for multi-cloud environments. Our agenda begins with a brief presentation, setting the stage for those managing work modes across multiple clouds. We'll then dive into a live product demo of our observability cloud. Lastly, we'll open the floor for questions and answers. We recently launched our 14-day free trial offer for observab\n",
      "Starting download of the YouTube video: https://www.youtube.com/watch?v=MsfqqRy3h9g\n",
      "[youtube] Extracting URL: https://www.youtube.com/watch?v=MsfqqRy3h9g\n",
      "[youtube] MsfqqRy3h9g: Downloading webpage\n",
      "[youtube] MsfqqRy3h9g: Downloading ios player API JSON\n",
      "[youtube] MsfqqRy3h9g: Downloading android player API JSON\n"
     ]
    },
    {
     "name": "stderr",
     "output_type": "stream",
     "text": [
      "WARNING: [youtube] Skipping player responses from android clients (got player responses for video \"aQvGIIdgFDM\" instead of \"MsfqqRy3h9g\")\n"
     ]
    },
    {
     "name": "stdout",
     "output_type": "stream",
     "text": [
      "[youtube] MsfqqRy3h9g: Downloading m3u8 information\n",
      "[info] MsfqqRy3h9g: Downloading 1 format(s): 251\n",
      "[download] Destination: docs/youtube/Webinar： Real-time Incident Detection and Resolution in Kubernetes Environments.webm\n",
      "[download] 100% of   29.44MiB in 00:00:04 at 7.34MiB/s     \n",
      "[ExtractAudio] Destination: docs/youtube/Webinar： Real-time Incident Detection and Resolution in Kubernetes Environments.mp3\n",
      "Deleting original file docs/youtube/Webinar： Real-time Incident Detection and Resolution in Kubernetes Environments.webm (pass -k to keep)\n",
      "Download complete. Audio file saved to docs/youtube/Webinar： Real-time Incident Detection and Resolution in Kubernetes Environments.mp3\n",
      "Loading Whisper model...\n",
      "Starting transcription...\n",
      "Transcription complete. Saving the transcription to a text file...\n",
      "Transcription saved to docs/youtube/Webinar: Real-time Incident Detection and Resolution in Kubernetes Environments.txt\n",
      " You just want to show your life and no one else can stop you You want your life, it's your life You enjoy your life, so it's gonna stay the way It's your life, we'll try to enjoy our lives And you ain't different baby You want your life You can change it As long as you can stand there It's the same girl When no one else can hurt you It's your chance now Before you find it still, let's see The heart we dumped is stopped, just can stop you Between them, like a rash, just can stop your breath I ca\n",
      "Starting download of the YouTube video: https://www.youtube.com/watch?v=AbbnvS8ys8Q\n",
      "[youtube] Extracting URL: https://www.youtube.com/watch?v=AbbnvS8ys8Q\n",
      "[youtube] AbbnvS8ys8Q: Downloading webpage\n",
      "[youtube] AbbnvS8ys8Q: Downloading ios player API JSON\n",
      "[youtube] AbbnvS8ys8Q: Downloading android player API JSON\n"
     ]
    },
    {
     "name": "stderr",
     "output_type": "stream",
     "text": [
      "WARNING: [youtube] Skipping player responses from android clients (got player responses for video \"aQvGIIdgFDM\" instead of \"AbbnvS8ys8Q\")\n"
     ]
    },
    {
     "name": "stdout",
     "output_type": "stream",
     "text": [
      "[youtube] AbbnvS8ys8Q: Downloading m3u8 information\n",
      "[info] AbbnvS8ys8Q: Downloading 1 format(s): 251\n",
      "[download] Destination: docs/youtube/Introducing the Observability Cloud.webm\n",
      "[download] 100% of    5.34MiB in 00:00:00 at 20.98MiB/s  \n",
      "[ExtractAudio] Destination: docs/youtube/Introducing the Observability Cloud.mp3\n",
      "Deleting original file docs/youtube/Introducing the Observability Cloud.webm (pass -k to keep)\n",
      "Download complete. Audio file saved to docs/youtube/Introducing the Observability Cloud.mp3\n",
      "Loading Whisper model...\n",
      "Starting transcription...\n",
      "Transcription complete. Saving the transcription to a text file...\n",
      "Transcription saved to docs/youtube/Introducing the Observability Cloud.txt\n",
      " The focus of today's talk is quite simply the observability cloud. For the very first time, Observe is bringing together all the capabilities you've been asking for into one single integrated product, everything from log analytics to monitoring to dashboarding, distributed tracing and much, much more. We also built Observe on top of a modern cloud-native architecture, which delivers an order of magnitude improvement in economics. We believe that there's never been a better time to introduce the\n",
      "Starting download of the YouTube video: https://www.youtube.com/watch?v=KSTqSW-PC0g\n",
      "[youtube] Extracting URL: https://www.youtube.com/watch?v=KSTqSW-PC0g\n",
      "[youtube] KSTqSW-PC0g: Downloading webpage\n",
      "[youtube] KSTqSW-PC0g: Downloading ios player API JSON\n",
      "[youtube] KSTqSW-PC0g: Downloading android player API JSON\n"
     ]
    },
    {
     "name": "stderr",
     "output_type": "stream",
     "text": [
      "WARNING: [youtube] Skipping player responses from android clients (got player responses for video \"aQvGIIdgFDM\" instead of \"KSTqSW-PC0g\")\n"
     ]
    },
    {
     "name": "stdout",
     "output_type": "stream",
     "text": [
      "[youtube] KSTqSW-PC0g: Downloading m3u8 information\n",
      "[info] KSTqSW-PC0g: Downloading 1 format(s): 251\n",
      "[download] Destination: docs/youtube/o11y BS Detector： Three Pillars by any Other Name.webm\n",
      "[download] 100% of  517.47KiB in 00:00:00 at 1.29MiB/s   \n",
      "[ExtractAudio] Destination: docs/youtube/o11y BS Detector： Three Pillars by any Other Name.mp3\n",
      "Deleting original file docs/youtube/o11y BS Detector： Three Pillars by any Other Name.webm (pass -k to keep)\n",
      "Download complete. Audio file saved to docs/youtube/o11y BS Detector： Three Pillars by any Other Name.mp3\n",
      "Loading Whisper model...\n",
      "Starting transcription...\n",
      "Transcription complete. Saving the transcription to a text file...\n",
      "Transcription saved to docs/youtube/o11y BS Detector: Three Pillars by any Other Name.txt\n",
      "  handmade uncult갈 TLG\n",
      "Starting download of the YouTube video: https://www.youtube.com/watch?v=_3gNADFIMXg\n",
      "[youtube] Extracting URL: https://www.youtube.com/watch?v=_3gNADFIMXg\n",
      "[youtube] _3gNADFIMXg: Downloading webpage\n",
      "[youtube] _3gNADFIMXg: Downloading ios player API JSON\n",
      "[youtube] _3gNADFIMXg: Downloading android player API JSON\n"
     ]
    },
    {
     "name": "stderr",
     "output_type": "stream",
     "text": [
      "WARNING: [youtube] Skipping player responses from android clients (got player responses for video \"aQvGIIdgFDM\" instead of \"_3gNADFIMXg\")\n"
     ]
    },
    {
     "name": "stdout",
     "output_type": "stream",
     "text": [
      "[youtube] _3gNADFIMXg: Downloading m3u8 information\n",
      "[youtube] _3gNADFIMXg: Downloading MPD manifest\n",
      "[info] _3gNADFIMXg: Downloading 1 format(s): 251\n",
      "[download] Destination: docs/youtube/Dashboards and Data Relationships.webm\n",
      "[download] 100% of  488.98KiB in 00:00:00 at 1.13MiB/s   \n",
      "[ExtractAudio] Destination: docs/youtube/Dashboards and Data Relationships.mp3\n",
      "Deleting original file docs/youtube/Dashboards and Data Relationships.webm (pass -k to keep)\n",
      "Download complete. Audio file saved to docs/youtube/Dashboards and Data Relationships.mp3\n",
      "Loading Whisper model...\n",
      "Starting transcription...\n",
      "Transcription complete. Saving the transcription to a text file...\n",
      "Transcription saved to docs/youtube/Dashboards and Data Relationships.txt\n",
      " Imagine it's 3am and you get paged. You open a dashboard and see a giant spike. It should be easy to get to the root cause from here, but it's not. The spike is actually a dead end. When we built our dashboarding feature, we did not want to build another single glass of paint. Observe understands relationships in your data, so our dashboards do too. When you see a spike, you can click on it and actually figure out what it means. Whether that's a node, user, log, metric, or whatever else you hav\n",
      "Starting download of the YouTube video: https://www.youtube.com/watch?v=UWbWf426Mzc\n",
      "[youtube] Extracting URL: https://www.youtube.com/watch?v=UWbWf426Mzc\n",
      "[youtube] UWbWf426Mzc: Downloading webpage\n",
      "[youtube] UWbWf426Mzc: Downloading ios player API JSON\n",
      "[youtube] UWbWf426Mzc: Downloading android player API JSON\n"
     ]
    },
    {
     "name": "stderr",
     "output_type": "stream",
     "text": [
      "WARNING: [youtube] Skipping player responses from android clients (got player responses for video \"aQvGIIdgFDM\" instead of \"UWbWf426Mzc\")\n"
     ]
    },
    {
     "name": "stdout",
     "output_type": "stream",
     "text": [
      "[youtube] UWbWf426Mzc: Downloading m3u8 information\n",
      "[info] UWbWf426Mzc: Downloading 1 format(s): 251\n",
      "[download] Destination: docs/youtube/Observe Demo.webm\n",
      "[download] 100% of    5.49MiB in 00:00:01 at 4.53MiB/s   \n",
      "[ExtractAudio] Destination: docs/youtube/Observe Demo.mp3\n",
      "Deleting original file docs/youtube/Observe Demo.webm (pass -k to keep)\n",
      "Download complete. Audio file saved to docs/youtube/Observe Demo.mp3\n",
      "Loading Whisper model...\n",
      "Starting transcription...\n",
      "Transcription complete. Saving the transcription to a text file...\n",
      "Transcription saved to docs/youtube/Observe Demo.txt\n",
      " Hi, my name is Badge and I'm one of the engineers here at Observe. Today we're going to take a walk through the Observe solution and focus on some recent updates to the platform, particularly with respect to alerts and metrics. To begin, I'm actually not going to dive right into Observe. Instead, let's take a look at this Slack channel where I get alerts from Observe. Recently, an alert fired, telling me that some of our customers are facing errors. One of the key properties of alerts in Observ\n",
      "Starting download of the YouTube video: https://www.youtube.com/watch?v=VfSy25Tkrio\n",
      "[youtube] Extracting URL: https://www.youtube.com/watch?v=VfSy25Tkrio\n",
      "[youtube] VfSy25Tkrio: Downloading webpage\n",
      "[youtube] VfSy25Tkrio: Downloading ios player API JSON\n",
      "[youtube] VfSy25Tkrio: Downloading android player API JSON\n"
     ]
    },
    {
     "name": "stderr",
     "output_type": "stream",
     "text": [
      "WARNING: [youtube] Skipping player responses from android clients (got player responses for video \"aQvGIIdgFDM\" instead of \"VfSy25Tkrio\")\n"
     ]
    },
    {
     "name": "stdout",
     "output_type": "stream",
     "text": [
      "[youtube] VfSy25Tkrio: Downloading m3u8 information\n",
      "[info] VfSy25Tkrio: Downloading 1 format(s): 251\n",
      "[download] Destination: docs/youtube/Generative AI - Using O11y GPT for Advanced Observability.webm\n",
      "[download] 100% of   17.64MiB in 00:00:00 at 25.99MiB/s  \n",
      "[ExtractAudio] Destination: docs/youtube/Generative AI - Using O11y GPT for Advanced Observability.mp3\n",
      "Deleting original file docs/youtube/Generative AI - Using O11y GPT for Advanced Observability.webm (pass -k to keep)\n",
      "Download complete. Audio file saved to docs/youtube/Generative AI - Using O11y GPT for Advanced Observability.mp3\n",
      "Loading Whisper model...\n",
      "Starting transcription...\n",
      "Transcription complete. Saving the transcription to a text file...\n",
      "Transcription saved to docs/youtube/Generative AI - Using O11y GPT for Advanced Observability.txt\n",
      " Hello and welcome to the observability trends webinar series. I'm Grant Swanson your host and today we will explore the topic of Generative AI and how to use OLEGPT for advanced observability. We'll kick off with a short presentation followed by a live product demo. Feel free to type any questions into the question window at any time during the webinar. All questions will be answered via email immediately after the session concludes. I also wanted to highlight that we will be conducting a hands\n",
      "Starting download of the YouTube video: https://www.youtube.com/watch?v=O3R2bQq149k\n",
      "[youtube] Extracting URL: https://www.youtube.com/watch?v=O3R2bQq149k\n",
      "[youtube] O3R2bQq149k: Downloading webpage\n",
      "[youtube] O3R2bQq149k: Downloading ios player API JSON\n",
      "[youtube] O3R2bQq149k: Downloading android player API JSON\n"
     ]
    },
    {
     "name": "stderr",
     "output_type": "stream",
     "text": [
      "WARNING: [youtube] Skipping player responses from android clients (got player responses for video \"aQvGIIdgFDM\" instead of \"O3R2bQq149k\")\n"
     ]
    },
    {
     "name": "stdout",
     "output_type": "stream",
     "text": [
      "[youtube] O3R2bQq149k: Downloading m3u8 information\n",
      "[info] O3R2bQq149k: Downloading 1 format(s): 251\n",
      "[download] Destination: docs/youtube/Observe Talk： Building a Fully Observable System.webm\n",
      "[download] 100% of   21.10MiB in 00:00:06 at 3.25MiB/s   \n",
      "[ExtractAudio] Destination: docs/youtube/Observe Talk： Building a Fully Observable System.mp3\n",
      "Deleting original file docs/youtube/Observe Talk： Building a Fully Observable System.webm (pass -k to keep)\n",
      "Download complete. Audio file saved to docs/youtube/Observe Talk： Building a Fully Observable System.mp3\n",
      "Loading Whisper model...\n",
      "Starting transcription...\n",
      "Transcription complete. Saving the transcription to a text file...\n",
      "Transcription saved to docs/youtube/Observe Talk: Building a Fully Observable System.txt\n",
      " Hello and welcome to this presentation on building a fully observable system. I'm Ross and I had a product here at Observe. In this presentation, we're going to first talk about how to form an observability strategy. What are the things you have to think about on day zero? We're going to dive briefly into Observe so that we can establish some context as we then move on to talk about how we use observability internally for troubleshooting and monitoring as well as for her whole slew of other use\n",
      "Starting download of the YouTube video: https://www.youtube.com/watch?v=uDShFDjDKmY\n",
      "[youtube] Extracting URL: https://www.youtube.com/watch?v=uDShFDjDKmY\n",
      "[youtube] uDShFDjDKmY: Downloading webpage\n",
      "[youtube] uDShFDjDKmY: Downloading ios player API JSON\n",
      "[youtube] uDShFDjDKmY: Downloading android player API JSON\n"
     ]
    },
    {
     "name": "stderr",
     "output_type": "stream",
     "text": [
      "WARNING: [youtube] Skipping player responses from android clients (got player responses for video \"aQvGIIdgFDM\" instead of \"uDShFDjDKmY\")\n"
     ]
    },
    {
     "name": "stdout",
     "output_type": "stream",
     "text": [
      "[youtube] uDShFDjDKmY: Downloading m3u8 information\n",
      "[info] uDShFDjDKmY: Downloading 1 format(s): 251\n",
      "[download] Destination: docs/youtube/Observe Direct Fall 2022： Welcome to the Observability Cloud.webm\n",
      "[download] 100% of   17.25MiB in 00:00:01 at 16.69MiB/s  \n",
      "[ExtractAudio] Destination: docs/youtube/Observe Direct Fall 2022： Welcome to the Observability Cloud.mp3\n",
      "Deleting original file docs/youtube/Observe Direct Fall 2022： Welcome to the Observability Cloud.webm (pass -k to keep)\n",
      "Download complete. Audio file saved to docs/youtube/Observe Direct Fall 2022： Welcome to the Observability Cloud.mp3\n",
      "Loading Whisper model...\n",
      "Starting transcription...\n",
      "Transcription complete. Saving the transcription to a text file...\n",
      "Transcription saved to docs/youtube/Observe Direct Fall 2022: Welcome to the Observability Cloud.txt\n",
      " The focus of today's talk is quite simply the observability cloud. For the very first time, observe is bringing together all the capabilities you've been asking for into one single integrated product. Everything from log analytics to monitoring to dashboarding, distributed tracing and much, much more. We also build observe on top of a modern cloud native architecture, which delivers an order of magnitude improvement in economics. We believe that there's never been a better time to introduce the\n",
      "Starting download of the YouTube video: https://www.youtube.com/watch?v=7K4pTgL6buk\n",
      "[youtube] Extracting URL: https://www.youtube.com/watch?v=7K4pTgL6buk\n",
      "[youtube] 7K4pTgL6buk: Downloading webpage\n",
      "[youtube] 7K4pTgL6buk: Downloading ios player API JSON\n",
      "[youtube] 7K4pTgL6buk: Downloading android player API JSON\n"
     ]
    },
    {
     "name": "stderr",
     "output_type": "stream",
     "text": [
      "WARNING: [youtube] Skipping player responses from android clients (got player responses for video \"aQvGIIdgFDM\" instead of \"7K4pTgL6buk\")\n"
     ]
    },
    {
     "name": "stdout",
     "output_type": "stream",
     "text": [
      "[youtube] 7K4pTgL6buk: Downloading m3u8 information\n",
      "[info] 7K4pTgL6buk: Downloading 1 format(s): 251\n",
      "[download] Destination: docs/youtube/Observe SKO 2024.webm\n",
      "[download] 100% of  947.05KiB in 00:00:00 at 3.31MiB/s   \n",
      "[ExtractAudio] Destination: docs/youtube/Observe SKO 2024.mp3\n",
      "Deleting original file docs/youtube/Observe SKO 2024.webm (pass -k to keep)\n",
      "Download complete. Audio file saved to docs/youtube/Observe SKO 2024.mp3\n",
      "Loading Whisper model...\n",
      "Starting transcription...\n",
      "Transcription complete. Saving the transcription to a text file...\n",
      "Transcription saved to docs/youtube/Observe SKO 2024.txt\n",
      " -\" Осuplease.\" -\"rete and wind.\" -\"H Norway.\" -\"S Zoom out to the Ms. Aquinas!\" -\"Paris!\" -\" Hi! -\" Romeo. -\"NEW gestoch�d. -\"NEW.\"\n",
      "Starting download of the YouTube video: https://www.youtube.com/watch?v=IbesqrY1NTI\n",
      "[youtube] Extracting URL: https://www.youtube.com/watch?v=IbesqrY1NTI\n",
      "[youtube] IbesqrY1NTI: Downloading webpage\n",
      "[youtube] IbesqrY1NTI: Downloading ios player API JSON\n",
      "[youtube] IbesqrY1NTI: Downloading android player API JSON\n"
     ]
    },
    {
     "name": "stderr",
     "output_type": "stream",
     "text": [
      "WARNING: [youtube] Skipping player responses from android clients (got player responses for video \"aQvGIIdgFDM\" instead of \"IbesqrY1NTI\")\n"
     ]
    },
    {
     "name": "stdout",
     "output_type": "stream",
     "text": [
      "[youtube] IbesqrY1NTI: Downloading m3u8 information\n",
      "[info] IbesqrY1NTI: Downloading 1 format(s): 251\n",
      "[download] Destination: docs/youtube/Introduction to Monitors.webm\n",
      "[download] 100% of    3.29MiB in 00:00:00 at 13.02MiB/s  \n",
      "[ExtractAudio] Destination: docs/youtube/Introduction to Monitors.mp3\n",
      "Deleting original file docs/youtube/Introduction to Monitors.webm (pass -k to keep)\n",
      "Download complete. Audio file saved to docs/youtube/Introduction to Monitors.mp3\n",
      "Loading Whisper model...\n",
      "Starting transcription...\n",
      "Transcription complete. Saving the transcription to a text file...\n",
      "Transcription saved to docs/youtube/Introduction to Monitors.txt\n",
      " Welcome to Monitoring and Observe. You can find monitors from the left-hand menu, where they'll be listed here under the monitors tab. You can create monitors from scratch, or you can use a predefined template provided by different applications, like Amazon or Kubernetes. And from here, I can search through predefined monitors and to use a template, I'll duplicate it just like this. And I'll be brought into the corresponding monitor configuration which most likely doesn't need to be changed at \n",
      "Starting download of the YouTube video: https://www.youtube.com/watch?v=aXszvwPhOCg\n",
      "[youtube] Extracting URL: https://www.youtube.com/watch?v=aXszvwPhOCg\n",
      "[youtube] aXszvwPhOCg: Downloading webpage\n",
      "[youtube] aXszvwPhOCg: Downloading ios player API JSON\n",
      "[youtube] aXszvwPhOCg: Downloading android player API JSON\n"
     ]
    },
    {
     "name": "stderr",
     "output_type": "stream",
     "text": [
      "WARNING: [youtube] Skipping player responses from android clients (got player responses for video \"aQvGIIdgFDM\" instead of \"aXszvwPhOCg\")\n"
     ]
    },
    {
     "name": "stdout",
     "output_type": "stream",
     "text": [
      "[youtube] aXszvwPhOCg: Downloading m3u8 information\n",
      "[info] aXszvwPhOCg: Downloading 1 format(s): 251\n",
      "[download] Destination: docs/youtube/OE： An Intro to Observe.webm\n",
      "[download] 100% of   15.96MiB in 00:00:00 at 26.65MiB/s  \n",
      "[ExtractAudio] Destination: docs/youtube/OE： An Intro to Observe.mp3\n",
      "Deleting original file docs/youtube/OE： An Intro to Observe.webm (pass -k to keep)\n",
      "Download complete. Audio file saved to docs/youtube/OE： An Intro to Observe.mp3\n",
      "Loading Whisper model...\n",
      "Starting transcription...\n",
      "Transcription complete. Saving the transcription to a text file...\n",
      "Transcription saved to docs/youtube/OE: An Intro to Observe.txt\n",
      " Welcome to Observe EnableIt. Today's video will be an introduction to Observe for anyone brand new to the product or anyone looking to get a refresher on the fundamental concepts to observe. To introduce Observe today, we'll be going over three core topics that cover the majority of Observe at a high level. Those three topics are data ingests, data models, and data apps, which data apps are really how we put our data to use, and that includes dashboards, monitors, and data explorers. Let's star\n",
      "Starting download of the YouTube video: https://www.youtube.com/watch?v=a8d7nOPV5hk\n",
      "[youtube] Extracting URL: https://www.youtube.com/watch?v=a8d7nOPV5hk\n",
      "[youtube] a8d7nOPV5hk: Downloading webpage\n",
      "[youtube] a8d7nOPV5hk: Downloading ios player API JSON\n",
      "[youtube] a8d7nOPV5hk: Downloading android player API JSON\n"
     ]
    },
    {
     "name": "stderr",
     "output_type": "stream",
     "text": [
      "WARNING: [youtube] Skipping player responses from android clients (got player responses for video \"aQvGIIdgFDM\" instead of \"a8d7nOPV5hk\")\n"
     ]
    },
    {
     "name": "stdout",
     "output_type": "stream",
     "text": [
      "[youtube] a8d7nOPV5hk: Downloading m3u8 information\n",
      "[youtube] a8d7nOPV5hk: Downloading MPD manifest\n",
      "[info] a8d7nOPV5hk: Downloading 1 format(s): 251\n",
      "[download] Destination: docs/youtube/Customer Spotlight： Linedata ｜ Seeing Through the Cloud.webm\n",
      "[download] 100% of    2.88MiB in 00:00:00 at 7.73MiB/s   \n",
      "[ExtractAudio] Destination: docs/youtube/Customer Spotlight： Linedata ｜ Seeing Through the Cloud.mp3\n",
      "Deleting original file docs/youtube/Customer Spotlight： Linedata ｜ Seeing Through the Cloud.webm (pass -k to keep)\n",
      "Download complete. Audio file saved to docs/youtube/Customer Spotlight： Linedata ｜ Seeing Through the Cloud.mp3\n",
      "Loading Whisper model...\n",
      "Starting transcription...\n",
      "Transcription complete. Saving the transcription to a text file...\n",
      "Transcription saved to docs/youtube/Customer Spotlight: Linedata | Seeing Through the Cloud.txt\n",
      " My name is Andre Butsar. I am the director of Cloud and DevOps at Mind Data. I went to college for computer engineering. I actually started my career in helpdesk, moved on to system engineering. I play a lot with Raspberry Pi, Arduino, and automating things around the house. My data is a FinTech company. We provide front-middle and back-office products for hedge funds, wealth managers, and banks. One of my responsibilities is to manage the Cloud Platform team, which is responsible for building \n",
      "Starting download of the YouTube video: https://www.youtube.com/watch?v=F2Ze4arLRpQ\n",
      "[youtube] Extracting URL: https://www.youtube.com/watch?v=F2Ze4arLRpQ\n",
      "[youtube] F2Ze4arLRpQ: Downloading webpage\n",
      "[youtube] F2Ze4arLRpQ: Downloading ios player API JSON\n",
      "[youtube] F2Ze4arLRpQ: Downloading android player API JSON\n"
     ]
    },
    {
     "name": "stderr",
     "output_type": "stream",
     "text": [
      "WARNING: [youtube] Skipping player responses from android clients (got player responses for video \"aQvGIIdgFDM\" instead of \"F2Ze4arLRpQ\")\n"
     ]
    },
    {
     "name": "stdout",
     "output_type": "stream",
     "text": [
      "[youtube] F2Ze4arLRpQ: Downloading m3u8 information\n",
      "[info] F2Ze4arLRpQ: Downloading 1 format(s): 251\n",
      "[download] Destination: docs/youtube/Dashboards That Can Dig Into Data.webm\n",
      "[download] 100% of  630.69KiB in 00:00:00 at 1020.55KiB/s\n",
      "[ExtractAudio] Destination: docs/youtube/Dashboards That Can Dig Into Data.mp3\n",
      "Deleting original file docs/youtube/Dashboards That Can Dig Into Data.webm (pass -k to keep)\n",
      "Download complete. Audio file saved to docs/youtube/Dashboards That Can Dig Into Data.mp3\n",
      "Loading Whisper model...\n",
      "Starting transcription...\n",
      "Transcription complete. Saving the transcription to a text file...\n",
      "Transcription saved to docs/youtube/Dashboards That Can Dig Into Data.txt\n",
      " When we created our dashboarding feature, we wanted to go beyond the high-level isolated summaries of what's going on in your infrastructure software or business. We wanted to make dashboards a starting point for investigations and insights, not the frustrating dead ends they typically are. Because we understand the relationships in your data, the things in your business and software, when you create a dashboard, the panels naturally connect to each other and relevant content like metrics can b\n",
      "Starting download of the YouTube video: https://www.youtube.com/watch?v=2Ep2oEFESQI\n",
      "[youtube] Extracting URL: https://www.youtube.com/watch?v=2Ep2oEFESQI\n",
      "[youtube] 2Ep2oEFESQI: Downloading webpage\n",
      "[youtube] 2Ep2oEFESQI: Downloading ios player API JSON\n",
      "[youtube] 2Ep2oEFESQI: Downloading android player API JSON\n"
     ]
    },
    {
     "name": "stderr",
     "output_type": "stream",
     "text": [
      "WARNING: [youtube] Skipping player responses from android clients (got player responses for video \"aQvGIIdgFDM\" instead of \"2Ep2oEFESQI\")\n"
     ]
    },
    {
     "name": "stdout",
     "output_type": "stream",
     "text": [
      "[youtube] 2Ep2oEFESQI: Downloading m3u8 information\n",
      "[info] 2Ep2oEFESQI: Downloading 1 format(s): 251\n",
      "[download] Destination: docs/youtube/Observe Launch II.webm\n",
      "[download] 100% of   29.48MiB in 00:00:02 at 13.81MiB/s    \n",
      "[ExtractAudio] Destination: docs/youtube/Observe Launch II.mp3\n",
      "Deleting original file docs/youtube/Observe Launch II.webm (pass -k to keep)\n",
      "Download complete. Audio file saved to docs/youtube/Observe Launch II.mp3\n",
      "Loading Whisper model...\n",
      "Starting transcription...\n",
      "Transcription complete. Saving the transcription to a text file...\n",
      "Transcription saved to docs/youtube/Observe Launch II.txt\n",
      " Welcome. Deeply innovative metrics. That's DIM for short. The metrics you never expected to see until at least a few years ago. The first time I've ever seen a new one, I've never seen a new one. I've never seen a new one. I've never seen a new one. Welcome. Deeply innovative metrics. That's DIM for short. The metrics you never expected to see until at least 60 years in the future. If you're a crack-adjac technologist, then you rely on metrics on a daily basis. Any modern metrics platform needs\n",
      "Starting download of the YouTube video: https://www.youtube.com/watch?v=DX9YmSnBkXg\n",
      "[youtube] Extracting URL: https://www.youtube.com/watch?v=DX9YmSnBkXg\n",
      "[youtube] DX9YmSnBkXg: Downloading webpage\n",
      "[youtube] DX9YmSnBkXg: Downloading ios player API JSON\n",
      "[youtube] DX9YmSnBkXg: Downloading android player API JSON\n"
     ]
    },
    {
     "name": "stderr",
     "output_type": "stream",
     "text": [
      "WARNING: [youtube] Skipping player responses from android clients (got player responses for video \"aQvGIIdgFDM\" instead of \"DX9YmSnBkXg\")\n"
     ]
    },
    {
     "name": "stdout",
     "output_type": "stream",
     "text": [
      "[youtube] DX9YmSnBkXg: Downloading m3u8 information\n",
      "[info] DX9YmSnBkXg: Downloading 1 format(s): 251\n",
      "[download] Destination: docs/youtube/Observe Launch.webm\n",
      "[download] 100% of   26.16MiB in 00:00:06 at 4.01MiB/s   \n",
      "[ExtractAudio] Destination: docs/youtube/Observe Launch.mp3\n",
      "Deleting original file docs/youtube/Observe Launch.webm (pass -k to keep)\n",
      "Download complete. Audio file saved to docs/youtube/Observe Launch.mp3\n",
      "Loading Whisper model...\n",
      "Starting transcription...\n",
      "Transcription complete. Saving the transcription to a text file...\n",
      "Transcription saved to docs/youtube/Observe Launch.txt\n",
      " Hi there. I'm Cloud Economist, Cory Quinn at the Duckbill Group. You may have no idea what a Cloud Economist is, but that's okay. I made the term up. When you define what you do, that gives you a false position of authority, from which you can insist you're right no matter what the topic is. Speaking of making up a field in which to master, let's talk about observability. What is observability? Ask five people get seven different answers. I mean to me, it's hipster monitoring. For better or wor\n",
      "Starting download of the YouTube video: https://www.youtube.com/watch?v=JXGqAKe26Os\n",
      "[youtube] Extracting URL: https://www.youtube.com/watch?v=JXGqAKe26Os\n",
      "[youtube] JXGqAKe26Os: Downloading webpage\n",
      "[youtube] JXGqAKe26Os: Downloading ios player API JSON\n",
      "[youtube] JXGqAKe26Os: Downloading android player API JSON\n"
     ]
    },
    {
     "name": "stderr",
     "output_type": "stream",
     "text": [
      "WARNING: [youtube] Skipping player responses from android clients (got player responses for video \"aQvGIIdgFDM\" instead of \"JXGqAKe26Os\")\n"
     ]
    },
    {
     "name": "stdout",
     "output_type": "stream",
     "text": [
      "[youtube] JXGqAKe26Os: Downloading m3u8 information\n",
      "[info] JXGqAKe26Os: Downloading 1 format(s): 251\n",
      "[download] Destination: docs/youtube/Observe in 5 Minutes.webm\n",
      "[download] 100% of    4.45MiB in 00:00:00 at 11.94MiB/s  \n",
      "[ExtractAudio] Destination: docs/youtube/Observe in 5 Minutes.mp3\n",
      "Deleting original file docs/youtube/Observe in 5 Minutes.webm (pass -k to keep)\n",
      "Download complete. Audio file saved to docs/youtube/Observe in 5 Minutes.mp3\n",
      "Loading Whisper model...\n",
      "Starting transcription...\n",
      "Transcription complete. Saving the transcription to a text file...\n",
      "Transcription saved to docs/youtube/Observe in 5 Minutes.txt\n",
      " On to take just five minutes of your time to tell you a little bit about what observed does and the customer problems we solve. As most of you are aware we live in a digital economy. Whether you're a product company, services companies, or with COVID, a government agency like Education, you're doing everything online. Every company has to become a technology company. Key to delivering a digital product or service is software and we build software differently. We use microservices and we deliver\n",
      "Starting download of the YouTube video: https://www.youtube.com/watch?v=uqv_Atllhx4\n",
      "[youtube] Extracting URL: https://www.youtube.com/watch?v=uqv_Atllhx4\n",
      "[youtube] uqv_Atllhx4: Downloading webpage\n",
      "[youtube] uqv_Atllhx4: Downloading ios player API JSON\n",
      "[youtube] uqv_Atllhx4: Downloading android player API JSON\n"
     ]
    },
    {
     "name": "stderr",
     "output_type": "stream",
     "text": [
      "WARNING: [youtube] Skipping player responses from android clients (got player responses for video \"aQvGIIdgFDM\" instead of \"uqv_Atllhx4\")\n"
     ]
    },
    {
     "name": "stdout",
     "output_type": "stream",
     "text": [
      "[youtube] uqv_Atllhx4: Downloading m3u8 information\n",
      "[info] uqv_Atllhx4: Downloading 1 format(s): 251\n",
      "[download] Destination: docs/youtube/Snowflake Data Drivers Observe Award.webm\n",
      "[download] 100% of    1.14MiB in 00:00:00 at 2.76MiB/s   \n",
      "[ExtractAudio] Destination: docs/youtube/Snowflake Data Drivers Observe Award.mp3\n",
      "Deleting original file docs/youtube/Snowflake Data Drivers Observe Award.webm (pass -k to keep)\n",
      "Download complete. Audio file saved to docs/youtube/Snowflake Data Drivers Observe Award.mp3\n",
      "Loading Whisper model...\n",
      "Starting transcription...\n",
      "Transcription complete. Saving the transcription to a text file...\n",
      "Transcription saved to docs/youtube/Snowflake Data Drivers Observe Award.txt\n",
      " Hello, I'm Denise Pearson, Chief Marketing Officer at Snowflake. The Snowflake Data Drivers Awards is a global awards program recognizing innovative individuals and teams that are transforming the organizations and the world around them using data. Every year we review hundreds of nominations from Snowflake customers around the world. Finally, the winners are show-sanned by a panel of industry experts and Snowflake leaders. Over the last year we've been transforming Snowflake from being the wor\n",
      "Starting download of the YouTube video: https://www.youtube.com/watch?v=67IdcWLsTbA\n",
      "[youtube] Extracting URL: https://www.youtube.com/watch?v=67IdcWLsTbA\n",
      "[youtube] 67IdcWLsTbA: Downloading webpage\n",
      "[youtube] 67IdcWLsTbA: Downloading ios player API JSON\n",
      "[youtube] 67IdcWLsTbA: Downloading android player API JSON\n"
     ]
    },
    {
     "name": "stderr",
     "output_type": "stream",
     "text": [
      "WARNING: [youtube] Skipping player responses from android clients (got player responses for video \"aQvGIIdgFDM\" instead of \"67IdcWLsTbA\")\n"
     ]
    },
    {
     "name": "stdout",
     "output_type": "stream",
     "text": [
      "[youtube] 67IdcWLsTbA: Downloading m3u8 information\n",
      "[info] 67IdcWLsTbA: Downloading 1 format(s): 251\n",
      "[download] Destination: docs/youtube/OE：  Data Modeling.webm\n",
      "[download] 100% of   31.06MiB in 00:00:01 at 19.88MiB/s    \n",
      "[ExtractAudio] Destination: docs/youtube/OE：  Data Modeling.mp3\n",
      "Deleting original file docs/youtube/OE：  Data Modeling.webm (pass -k to keep)\n",
      "Download complete. Audio file saved to docs/youtube/OE：  Data Modeling.mp3\n",
      "Loading Whisper model...\n",
      "Starting transcription...\n",
      "Transcription complete. Saving the transcription to a text file...\n",
      "Transcription saved to docs/youtube/OE:  Data Modeling.txt\n",
      " Welcome to Observe Enablement. In today's video, we'll be going over Data Modeling. To go over Data Modeling within Observe, we're going to go over what Data Modeling is an Observe, why we should perform Data Modeling and when to do so most appropriately. Then we'll move into how Data Modeling is actually achieved, which is through the use of worksheets within Observe. And then lastly, we'll go over some considerations and tying everything together when it comes to publishing data sets, which a\n",
      "Starting download of the YouTube video: https://www.youtube.com/watch?v=Y3qANy2knTw\n",
      "[youtube] Extracting URL: https://www.youtube.com/watch?v=Y3qANy2knTw\n",
      "[youtube] Y3qANy2knTw: Downloading webpage\n",
      "[youtube] Y3qANy2knTw: Downloading ios player API JSON\n",
      "[youtube] Y3qANy2knTw: Downloading android player API JSON\n"
     ]
    },
    {
     "name": "stderr",
     "output_type": "stream",
     "text": [
      "WARNING: [youtube] Skipping player responses from android clients (got player responses for video \"aQvGIIdgFDM\" instead of \"Y3qANy2knTw\")\n"
     ]
    },
    {
     "name": "stdout",
     "output_type": "stream",
     "text": [
      "[youtube] Y3qANy2knTw: Downloading m3u8 information\n",
      "[info] Y3qANy2knTw: Downloading 1 format(s): 251\n",
      "[download] Destination: docs/youtube/The Latest in Observe Apps.webm\n",
      "[download] 100% of    1.46MiB in 00:00:00 at 4.45MiB/s   \n",
      "[ExtractAudio] Destination: docs/youtube/The Latest in Observe Apps.mp3\n",
      "Deleting original file docs/youtube/The Latest in Observe Apps.webm (pass -k to keep)\n",
      "Download complete. Audio file saved to docs/youtube/The Latest in Observe Apps.mp3\n",
      "Loading Whisper model...\n",
      "Starting transcription...\n",
      "Transcription complete. Saving the transcription to a text file...\n",
      "Transcription saved to docs/youtube/The Latest in Observe Apps.txt\n",
      " We've been doubling down on providing out-of-box use cases for customers with the observables apps. First off, we made a bunch of improvement to our existing apps. We expanded AWS app to support Amazon CloudWatch synths settings. This allows you to monitor your endpoints and API, so you can continually verify your customer experience even if you don't have any customer traffic on your applications. We also made it easier to set up host monitoring app with the auto installation script. This elim\n",
      "Starting download of the YouTube video: https://www.youtube.com/watch?v=dlAR-xLj-88\n",
      "[youtube] Extracting URL: https://www.youtube.com/watch?v=dlAR-xLj-88\n",
      "[youtube] dlAR-xLj-88: Downloading webpage\n",
      "[youtube] dlAR-xLj-88: Downloading ios player API JSON\n",
      "[youtube] dlAR-xLj-88: Downloading android player API JSON\n"
     ]
    },
    {
     "name": "stderr",
     "output_type": "stream",
     "text": [
      "WARNING: [youtube] Skipping player responses from android clients (got player responses for video \"aQvGIIdgFDM\" instead of \"dlAR-xLj-88\")\n"
     ]
    },
    {
     "name": "stdout",
     "output_type": "stream",
     "text": [
      "[youtube] dlAR-xLj-88: Downloading m3u8 information\n",
      "[info] dlAR-xLj-88: Downloading 1 format(s): 251\n",
      "[download] Destination: docs/youtube/Deeply Innovative Metrics (DIM) - Dashboards & Alerts.webm\n",
      "[download] 100% of    1.98MiB in 00:00:00 at 3.37MiB/s   \n",
      "[ExtractAudio] Destination: docs/youtube/Deeply Innovative Metrics (DIM) - Dashboards & Alerts.mp3\n",
      "Deleting original file docs/youtube/Deeply Innovative Metrics (DIM) - Dashboards & Alerts.webm (pass -k to keep)\n",
      "Download complete. Audio file saved to docs/youtube/Deeply Innovative Metrics (DIM) - Dashboards & Alerts.mp3\n",
      "Loading Whisper model...\n",
      "Starting transcription...\n",
      "Transcription complete. Saving the transcription to a text file...\n",
      "Transcription saved to docs/youtube/Deeply Innovative Metrics (DIM) - Dashboards & Alerts.txt\n",
      " Welcome back to DIM or deeply innovative metrics, the 1961 edition. In part one, we covered walk-a-byte scale databases and algebraically correct query languages. In this show, we'll cover many more must-haves for every Rockstar X-Full-Stack engineer. Next up today, let's cover dashboards. That is a UI or user interface. Remember, you can never have enough dashboards. If you see one you like, you just copy it and make it your own. Contrary to popular belief, dashboards are state-of-the-art, inc\n",
      "Starting download of the YouTube video: https://www.youtube.com/watch?v=0-4qM_6dU8w\n",
      "[youtube] Extracting URL: https://www.youtube.com/watch?v=0-4qM_6dU8w\n",
      "[youtube] 0-4qM_6dU8w: Downloading webpage\n",
      "[youtube] 0-4qM_6dU8w: Downloading ios player API JSON\n",
      "[youtube] 0-4qM_6dU8w: Downloading android player API JSON\n"
     ]
    },
    {
     "name": "stderr",
     "output_type": "stream",
     "text": [
      "WARNING: [youtube] Skipping player responses from android clients (got player responses for video \"aQvGIIdgFDM\" instead of \"0-4qM_6dU8w\")\n"
     ]
    },
    {
     "name": "stdout",
     "output_type": "stream",
     "text": [
      "[youtube] 0-4qM_6dU8w: Downloading m3u8 information\n",
      "[info] 0-4qM_6dU8w: Downloading 1 format(s): 251\n",
      "[download] Destination: docs/youtube/Dashboard Editor Flow (Jul. 2023).webm\n",
      "[download] 100% of    2.37MiB in 00:00:00 at 4.12MiB/s   \n",
      "[ExtractAudio] Destination: docs/youtube/Dashboard Editor Flow (Jul. 2023).mp3\n",
      "Deleting original file docs/youtube/Dashboard Editor Flow (Jul. 2023).webm (pass -k to keep)\n",
      "Download complete. Audio file saved to docs/youtube/Dashboard Editor Flow (Jul. 2023).mp3\n",
      "Loading Whisper model...\n",
      "Starting transcription...\n",
      "Transcription complete. Saving the transcription to a text file...\n",
      "Transcription saved to docs/youtube/Dashboard Editor Flow (Jul. 2023).txt\n",
      " Welcome to Observe Dashboards. From the Explore menu and Observe, underneath the Dashboards tab, you'll see Dashboards from Observe apps and also Custom Dashboards from Observe users. Let's create a dashboard together. We'll do so from the top right and click New Dashboard, which will bring us into the new Observe Dashboard Editor. We'll click Add Card where we get several options, and I'll select a Dataset table, so to search for a Dataset, which will allow me to add a stream of logs to my das\n",
      "Starting download of the YouTube video: https://www.youtube.com/watch?v=nFEaDrmKXOU\n",
      "[youtube] Extracting URL: https://www.youtube.com/watch?v=nFEaDrmKXOU\n",
      "[youtube] nFEaDrmKXOU: Downloading webpage\n",
      "[youtube] nFEaDrmKXOU: Downloading ios player API JSON\n",
      "[youtube] nFEaDrmKXOU: Downloading android player API JSON\n"
     ]
    },
    {
     "name": "stderr",
     "output_type": "stream",
     "text": [
      "WARNING: [youtube] Skipping player responses from android clients (got player responses for video \"aQvGIIdgFDM\" instead of \"nFEaDrmKXOU\")\n"
     ]
    },
    {
     "name": "stdout",
     "output_type": "stream",
     "text": [
      "[youtube] nFEaDrmKXOU: Downloading m3u8 information\n",
      "[info] nFEaDrmKXOU: Downloading 1 format(s): 251\n",
      "[download] Destination: docs/youtube/What is Observe？.webm\n",
      "[download] 100% of    5.20MiB in 00:00:00 at 9.49MiB/s     \n",
      "[ExtractAudio] Destination: docs/youtube/What is Observe？.mp3\n",
      "Deleting original file docs/youtube/What is Observe？.webm (pass -k to keep)\n",
      "Download complete. Audio file saved to docs/youtube/What is Observe？.mp3\n",
      "Loading Whisper model...\n",
      "Starting transcription...\n",
      "Transcription complete. Saving the transcription to a text file...\n",
      "Transcription saved to docs/youtube/What is Observe?.txt\n",
      " Thanks for watching the Observe launch. Now this is our second launch, and we're going to focus a little bit less on the company today and more on new product features and some of our amazing customers. If you're new to Observe, the first thing that you should know is that we're taking a very different approach. Recent research by the 4.5.1 group shows that organizations use seven tools to troubleshoot and monitor their applications. They've got many tools because they have fragmented data. We \n",
      "Starting download of the YouTube video: https://www.youtube.com/watch?v=6SYavEvKeS4\n",
      "[youtube] Extracting URL: https://www.youtube.com/watch?v=6SYavEvKeS4\n",
      "[youtube] 6SYavEvKeS4: Downloading webpage\n",
      "[youtube] 6SYavEvKeS4: Downloading ios player API JSON\n",
      "[youtube] 6SYavEvKeS4: Downloading android player API JSON\n"
     ]
    },
    {
     "name": "stderr",
     "output_type": "stream",
     "text": [
      "WARNING: [youtube] Skipping player responses from android clients (got player responses for video \"aQvGIIdgFDM\" instead of \"6SYavEvKeS4\")\n"
     ]
    },
    {
     "name": "stdout",
     "output_type": "stream",
     "text": [
      "[youtube] 6SYavEvKeS4: Downloading m3u8 information\n",
      "[info] 6SYavEvKeS4: Downloading 1 format(s): 251\n",
      "[download] Destination: docs/youtube/How F5 Simplifies Troubleshooting with Observe.webm\n",
      "[download] 100% of    1.45MiB in 00:00:00 at 2.84MiB/s   \n",
      "[ExtractAudio] Destination: docs/youtube/How F5 Simplifies Troubleshooting with Observe.mp3\n",
      "Deleting original file docs/youtube/How F5 Simplifies Troubleshooting with Observe.webm (pass -k to keep)\n",
      "Download complete. Audio file saved to docs/youtube/How F5 Simplifies Troubleshooting with Observe.mp3\n",
      "Loading Whisper model...\n",
      "Starting transcription...\n",
      "Transcription complete. Saving the transcription to a text file...\n",
      "Transcription saved to docs/youtube/How F5 Simplifies Troubleshooting with Observe.txt\n",
      " Hi, my name is Chris Hain. I'm at the CTO's office at F5. I was thinking about a troubleshooting flow that we'd done the other day through an observed product and how simple that was compared to the exact same flow at a previous company. That flow was much more painful and I'd like to tell you a little bit about how that used to work. With Observe, you know, click, click, click, and I'm there with this prior system, it was, you know, an alert hits my phone. I know that the alert data comes from\n",
      "Starting download of the YouTube video: https://www.youtube.com/watch?v=feX5-RnwsHo\n",
      "[youtube] Extracting URL: https://www.youtube.com/watch?v=feX5-RnwsHo\n",
      "[youtube] feX5-RnwsHo: Downloading webpage\n",
      "[youtube] feX5-RnwsHo: Downloading ios player API JSON\n",
      "[youtube] feX5-RnwsHo: Downloading android player API JSON\n"
     ]
    },
    {
     "name": "stderr",
     "output_type": "stream",
     "text": [
      "WARNING: [youtube] Skipping player responses from android clients (got player responses for video \"aQvGIIdgFDM\" instead of \"feX5-RnwsHo\")\n"
     ]
    },
    {
     "name": "stdout",
     "output_type": "stream",
     "text": [
      "[youtube] feX5-RnwsHo: Downloading m3u8 information\n",
      "[info] feX5-RnwsHo: Downloading 1 format(s): 251\n",
      "[download] Destination: docs/youtube/Webinar： Tracing Transactions End-to-End Across Distributed Systems with Trace Explorer from Observe.webm\n",
      "[download] 100% of   15.45MiB in 00:00:00 at 23.21MiB/s  \n",
      "[ExtractAudio] Destination: docs/youtube/Webinar： Tracing Transactions End-to-End Across Distributed Systems with Trace Explorer from Observe.mp3\n",
      "Deleting original file docs/youtube/Webinar： Tracing Transactions End-to-End Across Distributed Systems with Trace Explorer from Observe.webm (pass -k to keep)\n",
      "Download complete. Audio file saved to docs/youtube/Webinar： Tracing Transactions End-to-End Across Distributed Systems with Trace Explorer from Observe.mp3\n",
      "Loading Whisper model...\n",
      "Starting transcription...\n",
      "Transcription complete. Saving the transcription to a text file...\n",
      "Transcription saved to docs/youtube/Webinar: Tracing Transactions End-to-End Across Distributed Systems with Trace Explorer from Observe.txt\n",
      " Hello and welcome to the Observability Trends webinar series. I'm Grant Swanson your host and today we will be discussing our latest product launch Trace Explorer. We'll kick off with a short presentation, followed by a live product demo. Feel free to type any questions into the questions window at any time during the webinar. All questions will be answered via email immediately after the session concludes. Everyone who registered for the webinar will receive a link to the recording and a link \n",
      "Starting download of the YouTube video: https://www.youtube.com/watch?v=c9Pi4hcUxd0\n",
      "[youtube] Extracting URL: https://www.youtube.com/watch?v=c9Pi4hcUxd0\n",
      "[youtube] c9Pi4hcUxd0: Downloading webpage\n",
      "[youtube] c9Pi4hcUxd0: Downloading ios player API JSON\n",
      "[youtube] c9Pi4hcUxd0: Downloading android player API JSON\n"
     ]
    },
    {
     "name": "stderr",
     "output_type": "stream",
     "text": [
      "WARNING: [youtube] Skipping player responses from android clients (got player responses for video \"aQvGIIdgFDM\" instead of \"c9Pi4hcUxd0\")\n"
     ]
    },
    {
     "name": "stdout",
     "output_type": "stream",
     "text": [
      "[youtube] c9Pi4hcUxd0: Downloading m3u8 information\n",
      "[youtube] c9Pi4hcUxd0: Downloading MPD manifest\n",
      "[info] c9Pi4hcUxd0: Downloading 1 format(s): 251\n",
      "[download] Destination: docs/youtube/New Metrics and Dashboarding Experience.webm\n",
      "[download] 100% of    1.25MiB in 00:00:00 at 8.44MiB/s   \n",
      "[ExtractAudio] Destination: docs/youtube/New Metrics and Dashboarding Experience.mp3\n",
      "Deleting original file docs/youtube/New Metrics and Dashboarding Experience.webm (pass -k to keep)\n",
      "Download complete. Audio file saved to docs/youtube/New Metrics and Dashboarding Experience.mp3\n",
      "Loading Whisper model...\n",
      "Starting transcription...\n",
      "Transcription complete. Saving the transcription to a text file...\n",
      "Transcription saved to docs/youtube/New Metrics and Dashboarding Experience.txt\n",
      " Since releasing our dashboarding and metric expression builder features in May, we've been hard at work getting feedback from our users and making improvements. Let's review a few of the major ones. First off, the metric expression builder is now available in worksheets and dashboards. That means users can visualize complex, multi metric expressions without using query language. We've also added support for parameters in metric expressions, so users can easily make their dashboards configurable\n",
      "Starting download of the YouTube video: https://www.youtube.com/watch?v=GynyeQjdmK4\n",
      "[youtube] Extracting URL: https://www.youtube.com/watch?v=GynyeQjdmK4\n",
      "[youtube] GynyeQjdmK4: Downloading webpage\n",
      "[youtube] GynyeQjdmK4: Downloading ios player API JSON\n",
      "[youtube] GynyeQjdmK4: Downloading android player API JSON\n"
     ]
    },
    {
     "name": "stderr",
     "output_type": "stream",
     "text": [
      "WARNING: [youtube] Skipping player responses from android clients (got player responses for video \"aQvGIIdgFDM\" instead of \"GynyeQjdmK4\")\n"
     ]
    },
    {
     "name": "stdout",
     "output_type": "stream",
     "text": [
      "[youtube] GynyeQjdmK4: Downloading m3u8 information\n",
      "[info] GynyeQjdmK4: Downloading 1 format(s): 251\n",
      "[download] Destination: docs/youtube/OTEL California.webm\n",
      "[download] 100% of  572.49KiB in 00:00:00 at 1.89MiB/s   \n",
      "[ExtractAudio] Destination: docs/youtube/OTEL California.mp3\n",
      "Deleting original file docs/youtube/OTEL California.webm (pass -k to keep)\n",
      "Download complete. Audio file saved to docs/youtube/OTEL California.mp3\n",
      "Loading Whisper model...\n",
      "Starting transcription...\n",
      "Transcription complete. Saving the transcription to a text file...\n",
      "Transcription saved to docs/youtube/OTEL California.txt\n",
      " Jong Raymond You don't have to. You want to leave now? Give him a give! From this region, and village may be registered\n",
      "Starting download of the YouTube video: https://www.youtube.com/watch?v=BllgjerVLC0\n",
      "[youtube] Extracting URL: https://www.youtube.com/watch?v=BllgjerVLC0\n",
      "[youtube] BllgjerVLC0: Downloading webpage\n",
      "[youtube] BllgjerVLC0: Downloading ios player API JSON\n",
      "[youtube] BllgjerVLC0: Downloading android player API JSON\n"
     ]
    },
    {
     "name": "stderr",
     "output_type": "stream",
     "text": [
      "WARNING: [youtube] Skipping player responses from android clients (got player responses for video \"aQvGIIdgFDM\" instead of \"BllgjerVLC0\")\n"
     ]
    },
    {
     "name": "stdout",
     "output_type": "stream",
     "text": [
      "[youtube] BllgjerVLC0: Downloading m3u8 information\n",
      "[info] BllgjerVLC0: Downloading 1 format(s): 251\n",
      "[download] Destination: docs/youtube/Launch Intro.webm\n",
      "[download] 100% of    1.68MiB in 00:00:00 at 10.25MiB/s  \n",
      "[ExtractAudio] Destination: docs/youtube/Launch Intro.mp3\n",
      "Deleting original file docs/youtube/Launch Intro.webm (pass -k to keep)\n",
      "Download complete. Audio file saved to docs/youtube/Launch Intro.mp3\n",
      "Loading Whisper model...\n",
      "Starting transcription...\n",
      "Transcription complete. Saving the transcription to a text file...\n",
      "Transcription saved to docs/youtube/Launch Intro.txt\n",
      " Hi there. I'm Cloud Economist, Cory Quinn at the Duck Bill Group. You may have no idea what a Cloud Economist is, but that's okay. I made the term up. When you define what you do, that gives you a false position of authority from which you can insist you're right no matter what the topic is. Speaking of making up a field in which to master, let's talk about observability. What is observability? Ask five people get seven different answers. I mean to me, it's hipster monitoring. For better or wor\n",
      "Starting download of the YouTube video: https://www.youtube.com/watch?v=vEPnQqhRcJg\n",
      "[youtube] Extracting URL: https://www.youtube.com/watch?v=vEPnQqhRcJg\n",
      "[youtube] vEPnQqhRcJg: Downloading webpage\n",
      "[youtube] vEPnQqhRcJg: Downloading ios player API JSON\n",
      "[youtube] vEPnQqhRcJg: Downloading android player API JSON\n"
     ]
    },
    {
     "name": "stderr",
     "output_type": "stream",
     "text": [
      "WARNING: [youtube] Skipping player responses from android clients (got player responses for video \"aQvGIIdgFDM\" instead of \"vEPnQqhRcJg\")\n"
     ]
    },
    {
     "name": "stdout",
     "output_type": "stream",
     "text": [
      "[youtube] vEPnQqhRcJg: Downloading m3u8 information\n",
      "[youtube] vEPnQqhRcJg: Downloading MPD manifest\n",
      "[info] vEPnQqhRcJg: Downloading 1 format(s): 251\n",
      "[download] Destination: docs/youtube/Launch II： Intro.webm\n",
      "[download] 100% of    5.09MiB in 00:00:01 at 3.46MiB/s   \n",
      "[ExtractAudio] Destination: docs/youtube/Launch II： Intro.mp3\n",
      "Deleting original file docs/youtube/Launch II： Intro.webm (pass -k to keep)\n",
      "Download complete. Audio file saved to docs/youtube/Launch II： Intro.mp3\n",
      "Loading Whisper model...\n",
      "Starting transcription...\n",
      "Transcription complete. Saving the transcription to a text file...\n",
      "Transcription saved to docs/youtube/Launch II: Intro.txt\n",
      " Welcome. Deeply innovative metrics. That's DIM for short. The metrics you never expected to see until at least 60 years in the future. If you're a crack-adjac technologist, then you rely on metrics on a daily basis. Any modern metrics you've got, you can't just go to the market and buy them. The tech-based metrics you've got are the key to your knowledge. You rely on metrics on a daily basis. Any modern metrics platform needs these key components. My capable technical assistant, young Jason her\n",
      "Starting download of the YouTube video: https://www.youtube.com/watch?v=Ya51VHNcABo\n",
      "[youtube] Extracting URL: https://www.youtube.com/watch?v=Ya51VHNcABo\n",
      "[youtube] Ya51VHNcABo: Downloading webpage\n",
      "[youtube] Ya51VHNcABo: Downloading ios player API JSON\n",
      "[youtube] Ya51VHNcABo: Downloading android player API JSON\n"
     ]
    },
    {
     "name": "stderr",
     "output_type": "stream",
     "text": [
      "WARNING: [youtube] Skipping player responses from android clients (got player responses for video \"aQvGIIdgFDM\" instead of \"Ya51VHNcABo\")\n"
     ]
    },
    {
     "name": "stdout",
     "output_type": "stream",
     "text": [
      "[youtube] Ya51VHNcABo: Downloading m3u8 information\n",
      "[info] Ya51VHNcABo: Downloading 1 format(s): 251\n",
      "[download] Destination: docs/youtube/Navigating Regulatory Compliance with Observability： A Modern Approach.webm\n",
      "[download] 100% of   30.62MiB in 00:00:02 at 10.56MiB/s    \n",
      "[ExtractAudio] Destination: docs/youtube/Navigating Regulatory Compliance with Observability： A Modern Approach.mp3\n",
      "Deleting original file docs/youtube/Navigating Regulatory Compliance with Observability： A Modern Approach.webm (pass -k to keep)\n",
      "Download complete. Audio file saved to docs/youtube/Navigating Regulatory Compliance with Observability： A Modern Approach.mp3\n",
      "Loading Whisper model...\n",
      "Starting transcription...\n",
      "Transcription complete. Saving the transcription to a text file...\n",
      "Transcription saved to docs/youtube/Navigating Regulatory Compliance with Observability: A Modern Approach.txt\n",
      " Hello and welcome to the Observability Trends webinar series. I'm Grant Swanson your host and today we will dive into the topic of navigating regulatory compliance with observability. Now I'd like to introduce our guest speaker, Senior Sales Engineer Keith Buzwell. Welcome Keith. Hey Grant, thanks a lot for having me today. Yeah so just getting right into it, navigating regulatory compliance with observability, a modern approach. So, you meet it here, there's three things I really want to disse\n",
      "Starting download of the YouTube video: https://www.youtube.com/watch?v=-jxsV3LjPTY\n",
      "[youtube] Extracting URL: https://www.youtube.com/watch?v=-jxsV3LjPTY\n",
      "[youtube] -jxsV3LjPTY: Downloading webpage\n",
      "[youtube] -jxsV3LjPTY: Downloading ios player API JSON\n",
      "[youtube] -jxsV3LjPTY: Downloading android player API JSON\n"
     ]
    },
    {
     "name": "stderr",
     "output_type": "stream",
     "text": [
      "WARNING: [youtube] Skipping player responses from android clients (got player responses for video \"aQvGIIdgFDM\" instead of \"-jxsV3LjPTY\")\n"
     ]
    },
    {
     "name": "stdout",
     "output_type": "stream",
     "text": [
      "[youtube] -jxsV3LjPTY: Downloading m3u8 information\n",
      "[info] -jxsV3LjPTY: Downloading 1 format(s): 251\n",
      "[download] Destination: docs/youtube/Observe 2023 Business Update.webm\n",
      "[download] 100% of    2.34MiB in 00:00:00 at 3.11MiB/s   \n",
      "[ExtractAudio] Destination: docs/youtube/Observe 2023 Business Update.mp3\n",
      "Deleting original file docs/youtube/Observe 2023 Business Update.webm (pass -k to keep)\n",
      "Download complete. Audio file saved to docs/youtube/Observe 2023 Business Update.mp3\n",
      "Loading Whisper model...\n",
      "Starting transcription...\n",
      "Transcription complete. Saving the transcription to a text file...\n",
      "Transcription saved to docs/youtube/Observe 2023 Business Update.txt\n",
      " This is a big day for Observe and our customers. This is the largest and most ambitious release to date. We're also announcing today our latest funding, $50 million in Series A3, led by Sutter Hill Ventures. This money will be predominantly used to expand our sales team. We've already hit our sales plan for this fiscal year and are seeing our growth accelerate. That growth is showing up in our usage statistics. Our platform is now ingesting almost 200 terabytes a day and we're issuing almost 55\n",
      "Starting download of the YouTube video: https://www.youtube.com/watch?v=bqSsZOvSX6c\n",
      "[youtube] Extracting URL: https://www.youtube.com/watch?v=bqSsZOvSX6c\n",
      "[youtube] bqSsZOvSX6c: Downloading webpage\n",
      "[youtube] bqSsZOvSX6c: Downloading ios player API JSON\n",
      "[youtube] bqSsZOvSX6c: Downloading android player API JSON\n"
     ]
    },
    {
     "name": "stderr",
     "output_type": "stream",
     "text": [
      "WARNING: [youtube] Skipping player responses from android clients (got player responses for video \"aQvGIIdgFDM\" instead of \"bqSsZOvSX6c\")\n"
     ]
    },
    {
     "name": "stdout",
     "output_type": "stream",
     "text": [
      "[youtube] bqSsZOvSX6c: Downloading m3u8 information\n",
      "[youtube] bqSsZOvSX6c: Downloading MPD manifest\n",
      "[info] bqSsZOvSX6c: Downloading 1 format(s): 251\n",
      "[download] Destination: docs/youtube/Metric Expression Builder, for Humans.webm\n",
      "[download] 100% of  873.29KiB in 00:00:00 at 1.55MiB/s   \n",
      "[ExtractAudio] Destination: docs/youtube/Metric Expression Builder, for Humans.mp3\n",
      "Deleting original file docs/youtube/Metric Expression Builder, for Humans.webm (pass -k to keep)\n",
      "Download complete. Audio file saved to docs/youtube/Metric Expression Builder, for Humans.mp3\n",
      "Loading Whisper model...\n",
      "Starting transcription...\n",
      "Transcription complete. Saving the transcription to a text file...\n",
      "Transcription saved to docs/youtube/Metric Expression Builder, for Humans.txt\n",
      " Metrics are generated by machines, and with most tools, you feel like you need to be a machine to understand them. A few years ago, I watched an engineer try and build a Prometheus alert. It took them days to get it right, and the end result made little sense to other engineers on call. That's why I'm happy to announce our new metric-alerting experience. It's built by and for humans. We've introduced a Metrics expression builder. The builder makes it easy for anyone to alert on Metrics, even if\n",
      "Starting download of the YouTube video: https://www.youtube.com/watch?v=GM3pGLpeaeU\n",
      "[youtube] Extracting URL: https://www.youtube.com/watch?v=GM3pGLpeaeU\n",
      "[youtube] GM3pGLpeaeU: Downloading webpage\n",
      "[youtube] GM3pGLpeaeU: Downloading ios player API JSON\n",
      "[youtube] GM3pGLpeaeU: Downloading android player API JSON\n"
     ]
    },
    {
     "name": "stderr",
     "output_type": "stream",
     "text": [
      "WARNING: [youtube] Skipping player responses from android clients (got player responses for video \"aQvGIIdgFDM\" instead of \"GM3pGLpeaeU\")\n"
     ]
    },
    {
     "name": "stdout",
     "output_type": "stream",
     "text": [
      "[youtube] GM3pGLpeaeU: Downloading m3u8 information\n",
      "[info] GM3pGLpeaeU: Downloading 1 format(s): 251\n",
      "[download] Destination: docs/youtube/Corey on Tags.webm\n",
      "[download] 100% of  827.46KiB in 00:00:00 at 1.45MiB/s   \n",
      "[ExtractAudio] Destination: docs/youtube/Corey on Tags.mp3\n",
      "Deleting original file docs/youtube/Corey on Tags.webm (pass -k to keep)\n",
      "Download complete. Audio file saved to docs/youtube/Corey on Tags.mp3\n",
      "Loading Whisper model...\n",
      "Starting transcription...\n",
      "Transcription complete. Saving the transcription to a text file...\n",
      "Transcription saved to docs/youtube/Corey on Tags.txt\n",
      " Tax. Yeah, I fix AWS bills for a living. Let me tell you, tags are the only way to get meaningful signal out of that entire mess of nonsense. Who tags appropriately? Absolutely freaking nobody does. Because that's a job for computers. Who set the computers to tag appropriately? That's right. No one has. So it means that you're trying to wind up sifting through this giant universe that's constantly changing and then yelling at people because the tags aren't correct. It's a terrific way to wind u\n",
      "Starting download of the YouTube video: https://www.youtube.com/watch?v=67IdcWLsTbA\n",
      "[youtube] Extracting URL: https://www.youtube.com/watch?v=67IdcWLsTbA\n",
      "[youtube] 67IdcWLsTbA: Downloading webpage\n",
      "[youtube] 67IdcWLsTbA: Downloading ios player API JSON\n",
      "[youtube] 67IdcWLsTbA: Downloading android player API JSON\n"
     ]
    },
    {
     "name": "stderr",
     "output_type": "stream",
     "text": [
      "WARNING: [youtube] Skipping player responses from android clients (got player responses for video \"aQvGIIdgFDM\" instead of \"67IdcWLsTbA\")\n"
     ]
    },
    {
     "name": "stdout",
     "output_type": "stream",
     "text": [
      "[youtube] 67IdcWLsTbA: Downloading m3u8 information\n",
      "[info] 67IdcWLsTbA: Downloading 1 format(s): 251\n",
      "[download] Destination: docs/youtube/OE：  Data Modeling.webm\n",
      "[download] 100% of   31.06MiB in 00:00:02 at 11.96MiB/s    \n",
      "[ExtractAudio] Destination: docs/youtube/OE：  Data Modeling.mp3\n",
      "Deleting original file docs/youtube/OE：  Data Modeling.webm (pass -k to keep)\n",
      "Download complete. Audio file saved to docs/youtube/OE：  Data Modeling.mp3\n",
      "Loading Whisper model...\n",
      "Starting transcription...\n",
      "Transcription complete. Saving the transcription to a text file...\n",
      "Transcription saved to docs/youtube/OE:  Data Modeling.txt\n",
      " Welcome to Observe Enablement. In today's video, we'll be going over Data Modeling. To go over Data Modeling within Observe, we're going to go over what Data Modeling is an Observe, why we should perform Data Modeling and when to do so most appropriately. Then we'll move into how Data Modeling is actually achieved, which is through the use of worksheets within Observe. And then lastly, we'll go over some considerations and tying everything together when it comes to publishing data sets, which a\n",
      "Starting download of the YouTube video: https://www.youtube.com/watch?v=c8iC1ZKJViM\n",
      "[youtube] Extracting URL: https://www.youtube.com/watch?v=c8iC1ZKJViM\n",
      "[youtube] c8iC1ZKJViM: Downloading webpage\n",
      "[youtube] c8iC1ZKJViM: Downloading ios player API JSON\n",
      "[youtube] c8iC1ZKJViM: Downloading android player API JSON\n"
     ]
    },
    {
     "name": "stderr",
     "output_type": "stream",
     "text": [
      "WARNING: [youtube] Skipping player responses from android clients (got player responses for video \"aQvGIIdgFDM\" instead of \"c8iC1ZKJViM\")\n"
     ]
    },
    {
     "name": "stdout",
     "output_type": "stream",
     "text": [
      "[youtube] c8iC1ZKJViM: Downloading m3u8 information\n",
      "[youtube] c8iC1ZKJViM: Downloading MPD manifest\n",
      "[info] c8iC1ZKJViM: Downloading 1 format(s): 251\n",
      "[download] Destination: docs/youtube/Observe Launch II： Linedata Intro.webm\n",
      "[download] 100% of  544.73KiB in 00:00:00 at 754.17KiB/s \n",
      "[ExtractAudio] Destination: docs/youtube/Observe Launch II： Linedata Intro.mp3\n",
      "Deleting original file docs/youtube/Observe Launch II： Linedata Intro.webm (pass -k to keep)\n",
      "Download complete. Audio file saved to docs/youtube/Observe Launch II： Linedata Intro.mp3\n",
      "Loading Whisper model...\n",
      "Starting transcription...\n",
      "Transcription complete. Saving the transcription to a text file...\n",
      "Transcription saved to docs/youtube/Observe Launch II: Linedata Intro.txt\n",
      " Damn girl, that was both impressive and given the ability to navigate so quickly to an offending line of code Quite terrifying makes for some great blamful problem solving Now if you're like me this information isn't quite enough to be convincing because there's not a human demonstrating social proof Well, you're in luck. Let's hear from some actual customers who are using the product We've got two customer videos the first is from line data There are financial services company that is rapidly \n",
      "Starting download of the YouTube video: https://www.youtube.com/watch?v=PUmttqDUCPU\n",
      "[youtube] Extracting URL: https://www.youtube.com/watch?v=PUmttqDUCPU\n",
      "[youtube] PUmttqDUCPU: Downloading webpage\n",
      "[youtube] PUmttqDUCPU: Downloading ios player API JSON\n",
      "[youtube] PUmttqDUCPU: Downloading android player API JSON\n"
     ]
    },
    {
     "name": "stderr",
     "output_type": "stream",
     "text": [
      "WARNING: [youtube] Skipping player responses from android clients (got player responses for video \"aQvGIIdgFDM\" instead of \"PUmttqDUCPU\")\n"
     ]
    },
    {
     "name": "stdout",
     "output_type": "stream",
     "text": [
      "[youtube] PUmttqDUCPU: Downloading m3u8 information\n",
      "[info] PUmttqDUCPU: Downloading 1 format(s): 251\n",
      "[download] Destination: docs/youtube/Corey Customer Intro.webm\n",
      "[download] 100% of  582.33KiB in 00:00:00 at 696.93KiB/s \n",
      "[ExtractAudio] Destination: docs/youtube/Corey Customer Intro.mp3\n",
      "Deleting original file docs/youtube/Corey Customer Intro.webm (pass -k to keep)\n",
      "Download complete. Audio file saved to docs/youtube/Corey Customer Intro.mp3\n",
      "Loading Whisper model...\n",
      "Starting transcription...\n",
      "Transcription complete. Saving the transcription to a text file...\n",
      "Transcription saved to docs/youtube/Corey Customer Intro.txt\n",
      " AI is a beautiful thing because there's no better way to express the sentiment. I hear you have VC money and I would like some of it please. That's really where it starts and stops. Now, I've long said that any keynote, webinar or presentation about a product is going to be shitty if it doesn't feature customers telling stories about what they actually use the thing for. You'll see this sometimes at various conferences. Damn world. Sorry. So, in that light, let's talk to a few pre-release obser\n",
      "Starting download of the YouTube video: https://www.youtube.com/watch?v=XkiZKIrM7gA\n",
      "[youtube] Extracting URL: https://www.youtube.com/watch?v=XkiZKIrM7gA\n",
      "[youtube] XkiZKIrM7gA: Downloading webpage\n",
      "[youtube] XkiZKIrM7gA: Downloading ios player API JSON\n",
      "[youtube] XkiZKIrM7gA: Downloading android player API JSON\n"
     ]
    },
    {
     "name": "stderr",
     "output_type": "stream",
     "text": [
      "WARNING: [youtube] Skipping player responses from android clients (got player responses for video \"aQvGIIdgFDM\" instead of \"XkiZKIrM7gA\")\n"
     ]
    },
    {
     "name": "stdout",
     "output_type": "stream",
     "text": [
      "[youtube] XkiZKIrM7gA: Downloading m3u8 information\n",
      "[info] XkiZKIrM7gA: Downloading 1 format(s): 251\n",
      "[download] Destination: docs/youtube/Catch the Observability Wave at Club O11y.webm\n",
      "[download] 100% of  851.44KiB in 00:00:00 at 1.18MiB/s   \n",
      "[ExtractAudio] Destination: docs/youtube/Catch the Observability Wave at Club O11y.mp3\n",
      "Deleting original file docs/youtube/Catch the Observability Wave at Club O11y.webm (pass -k to keep)\n",
      "Download complete. Audio file saved to docs/youtube/Catch the Observability Wave at Club O11y.mp3\n",
      "Loading Whisper model...\n",
      "Starting transcription...\n",
      "Transcription complete. Saving the transcription to a text file...\n",
      "Transcription saved to docs/youtube/Catch the Observability Wave at Club O11y.txt\n",
      " concrete you\n",
      "Starting download of the YouTube video: https://www.youtube.com/watch?v=vEPnQqhRcJg\n",
      "[youtube] Extracting URL: https://www.youtube.com/watch?v=vEPnQqhRcJg\n",
      "[youtube] vEPnQqhRcJg: Downloading webpage\n",
      "[youtube] vEPnQqhRcJg: Downloading ios player API JSON\n",
      "[youtube] vEPnQqhRcJg: Downloading android player API JSON\n"
     ]
    },
    {
     "name": "stderr",
     "output_type": "stream",
     "text": [
      "WARNING: [youtube] Skipping player responses from android clients (got player responses for video \"aQvGIIdgFDM\" instead of \"vEPnQqhRcJg\")\n"
     ]
    },
    {
     "name": "stdout",
     "output_type": "stream",
     "text": [
      "[youtube] vEPnQqhRcJg: Downloading m3u8 information\n",
      "[youtube] vEPnQqhRcJg: Downloading MPD manifest\n",
      "[info] vEPnQqhRcJg: Downloading 1 format(s): 251\n",
      "[download] Destination: docs/youtube/Launch II： Intro.webm\n",
      "[download] 100% of    5.09MiB in 00:00:00 at 5.28MiB/s   \n",
      "[ExtractAudio] Destination: docs/youtube/Launch II： Intro.mp3\n",
      "Deleting original file docs/youtube/Launch II： Intro.webm (pass -k to keep)\n",
      "Download complete. Audio file saved to docs/youtube/Launch II： Intro.mp3\n",
      "Loading Whisper model...\n",
      "Starting transcription...\n",
      "Transcription complete. Saving the transcription to a text file...\n",
      "Transcription saved to docs/youtube/Launch II: Intro.txt\n",
      " Welcome. Deeply innovative metrics. That's DIM for short. The metrics you never expected to see until at least 60 years in the future. If you're a crack-adjac technologist, then you rely on metrics on a daily basis. Any modern metrics you've got, you can't just go to the market and buy them. The tech-based metrics you've got are the key to your knowledge. You rely on metrics on a daily basis. Any modern metrics platform needs these key components. My capable technical assistant, young Jason her\n",
      "Starting download of the YouTube video: https://www.youtube.com/watch?v=Y3gSsGOLpqw\n",
      "[youtube] Extracting URL: https://www.youtube.com/watch?v=Y3gSsGOLpqw\n",
      "[youtube] Y3gSsGOLpqw: Downloading webpage\n",
      "[youtube] Y3gSsGOLpqw: Downloading ios player API JSON\n",
      "[youtube] Y3gSsGOLpqw: Downloading android player API JSON\n"
     ]
    },
    {
     "name": "stderr",
     "output_type": "stream",
     "text": [
      "WARNING: [youtube] Skipping player responses from android clients (got player responses for video \"aQvGIIdgFDM\" instead of \"Y3gSsGOLpqw\")\n"
     ]
    },
    {
     "name": "stdout",
     "output_type": "stream",
     "text": [
      "[youtube] Y3gSsGOLpqw: Downloading m3u8 information\n",
      "[info] Y3gSsGOLpqw: Downloading 1 format(s): 251\n",
      "[download] Destination: docs/youtube/Observability Market Overview.webm\n",
      "[download] 100% of    3.32MiB in 00:00:00 at 3.73MiB/s   \n",
      "[ExtractAudio] Destination: docs/youtube/Observability Market Overview.mp3\n",
      "Deleting original file docs/youtube/Observability Market Overview.webm (pass -k to keep)\n",
      "Download complete. Audio file saved to docs/youtube/Observability Market Overview.mp3\n",
      "Loading Whisper model...\n",
      "Starting transcription...\n",
      "Transcription complete. Saving the transcription to a text file...\n",
      "Transcription saved to docs/youtube/Observability Market Overview.txt\n",
      " CEOs realize that their customer engagement models have changed with COVID-19, and some have changed forever. As organizations have migrated from a traditional technology stack to an application and infrastructure environment that includes cloud, multi-cloud containers, Kubernetes, microservices, this environment is so much more complex and so much more dynamic than a traditional technology stack. When you have an issue, it can be rather like a murder mystery trying to find out what the issue i\n",
      "Starting download of the YouTube video: https://www.youtube.com/watch?v=feX5-RnwsHo\n",
      "[youtube] Extracting URL: https://www.youtube.com/watch?v=feX5-RnwsHo\n",
      "[youtube] feX5-RnwsHo: Downloading webpage\n",
      "[youtube] feX5-RnwsHo: Downloading ios player API JSON\n",
      "[youtube] feX5-RnwsHo: Downloading android player API JSON\n"
     ]
    },
    {
     "name": "stderr",
     "output_type": "stream",
     "text": [
      "WARNING: [youtube] Skipping player responses from android clients (got player responses for video \"aQvGIIdgFDM\" instead of \"feX5-RnwsHo\")\n"
     ]
    },
    {
     "name": "stdout",
     "output_type": "stream",
     "text": [
      "[youtube] feX5-RnwsHo: Downloading m3u8 information\n",
      "[info] feX5-RnwsHo: Downloading 1 format(s): 251\n",
      "[download] Destination: docs/youtube/Webinar： Tracing Transactions End-to-End Across Distributed Systems with Trace Explorer from Observe.webm\n",
      "[download] 100% of   15.45MiB in 00:00:00 at 18.12MiB/s  \n",
      "[ExtractAudio] Destination: docs/youtube/Webinar： Tracing Transactions End-to-End Across Distributed Systems with Trace Explorer from Observe.mp3\n",
      "Deleting original file docs/youtube/Webinar： Tracing Transactions End-to-End Across Distributed Systems with Trace Explorer from Observe.webm (pass -k to keep)\n",
      "Download complete. Audio file saved to docs/youtube/Webinar： Tracing Transactions End-to-End Across Distributed Systems with Trace Explorer from Observe.mp3\n",
      "Loading Whisper model...\n",
      "Starting transcription...\n",
      "Transcription complete. Saving the transcription to a text file...\n",
      "Transcription saved to docs/youtube/Webinar: Tracing Transactions End-to-End Across Distributed Systems with Trace Explorer from Observe.txt\n",
      " Hello and welcome to the Observability Trends webinar series. I'm Grant Swanson your host and today we will be discussing our latest product launch Trace Explorer. We'll kick off with a short presentation, followed by a live product demo. Feel free to type any questions into the questions window at any time during the webinar. All questions will be answered via email immediately after the session concludes. Everyone who registered for the webinar will receive a link to the recording and a link \n",
      "Starting download of the YouTube video: https://www.youtube.com/watch?v=xp0Ja67pjD8\n",
      "[youtube] Extracting URL: https://www.youtube.com/watch?v=xp0Ja67pjD8\n",
      "[youtube] xp0Ja67pjD8: Downloading webpage\n",
      "[youtube] xp0Ja67pjD8: Downloading ios player API JSON\n",
      "[youtube] xp0Ja67pjD8: Downloading android player API JSON\n"
     ]
    },
    {
     "name": "stderr",
     "output_type": "stream",
     "text": [
      "WARNING: [youtube] Skipping player responses from android clients (got player responses for video \"aQvGIIdgFDM\" instead of \"xp0Ja67pjD8\")\n"
     ]
    },
    {
     "name": "stdout",
     "output_type": "stream",
     "text": [
      "[youtube] xp0Ja67pjD8: Downloading m3u8 information\n",
      "[info] xp0Ja67pjD8: Downloading 1 format(s): 251\n",
      "[download] Destination: docs/youtube/New User Experience： Log and Metric Explorer.webm\n",
      "[download] 100% of    2.46MiB in 00:00:01 at 2.42MiB/s   \n",
      "[ExtractAudio] Destination: docs/youtube/New User Experience： Log and Metric Explorer.mp3\n",
      "Deleting original file docs/youtube/New User Experience： Log and Metric Explorer.webm (pass -k to keep)\n",
      "Download complete. Audio file saved to docs/youtube/New User Experience： Log and Metric Explorer.mp3\n",
      "Loading Whisper model...\n",
      "Starting transcription...\n",
      "Transcription complete. Saving the transcription to a text file...\n",
      "Transcription saved to docs/youtube/New User Experience: Log and Metric Explorer.txt\n",
      " Over the past six months, we've become obsessed with ease of use in the new user experience and observe. We've conducted dozens of user interviews and live usability tests that have made major improvements to observe UI based on this feedback. Like to share a few of these improvements with you now. First, I'm excited to announce our new log explorer UI. The log explorer is intended to be a one-stop destination to browse, search, and analyze all of your log data. When you come to the log explore\n",
      "Starting download of the YouTube video: https://www.youtube.com/watch?v=1EJQjqZS2bs\n",
      "[youtube] Extracting URL: https://www.youtube.com/watch?v=1EJQjqZS2bs\n",
      "[youtube] 1EJQjqZS2bs: Downloading webpage\n",
      "[youtube] 1EJQjqZS2bs: Downloading ios player API JSON\n",
      "[youtube] 1EJQjqZS2bs: Downloading android player API JSON\n"
     ]
    },
    {
     "name": "stderr",
     "output_type": "stream",
     "text": [
      "WARNING: [youtube] Skipping player responses from android clients (got player responses for video \"aQvGIIdgFDM\" instead of \"1EJQjqZS2bs\")\n"
     ]
    },
    {
     "name": "stdout",
     "output_type": "stream",
     "text": [
      "[youtube] 1EJQjqZS2bs: Downloading m3u8 information\n",
      "[youtube] 1EJQjqZS2bs: Downloading MPD manifest\n",
      "[info] 1EJQjqZS2bs: Downloading 1 format(s): 251\n",
      "[download] Destination: docs/youtube/Corey Demo Intro.webm\n",
      "[download] 100% of  330.33KiB in 00:00:00 at 821.87KiB/s \n",
      "[ExtractAudio] Destination: docs/youtube/Corey Demo Intro.mp3\n",
      "Deleting original file docs/youtube/Corey Demo Intro.webm (pass -k to keep)\n",
      "Download complete. Audio file saved to docs/youtube/Corey Demo Intro.mp3\n",
      "Loading Whisper model...\n",
      "Starting transcription...\n",
      "Transcription complete. Saving the transcription to a text file...\n",
      "Transcription saved to docs/youtube/Corey Demo Intro.txt\n",
      " So, that's all well and good. But what does this actually mean in practice? One of the biggest problems we're having right now during this global pandemic is that you don't have that moment of frustration watching someone else drive a computer and it's not the way you would drive the computer. Here to help bring that office moment back to you is Belcha, to demonstrate exactly how observe works.\n",
      "Starting download of the YouTube video: https://www.youtube.com/watch?v=Wp-Bj5gkA34\n",
      "[youtube] Extracting URL: https://www.youtube.com/watch?v=Wp-Bj5gkA34\n",
      "[youtube] Wp-Bj5gkA34: Downloading webpage\n",
      "[youtube] Wp-Bj5gkA34: Downloading ios player API JSON\n",
      "[youtube] Wp-Bj5gkA34: Downloading android player API JSON\n"
     ]
    },
    {
     "name": "stderr",
     "output_type": "stream",
     "text": [
      "WARNING: [youtube] Skipping player responses from android clients (got player responses for video \"aQvGIIdgFDM\" instead of \"Wp-Bj5gkA34\")\n"
     ]
    },
    {
     "name": "stdout",
     "output_type": "stream",
     "text": [
      "[youtube] Wp-Bj5gkA34: Downloading m3u8 information\n",
      "[youtube] Wp-Bj5gkA34: Downloading MPD manifest\n",
      "[info] Wp-Bj5gkA34: Downloading 1 format(s): 251\n",
      "[download] Destination: docs/youtube/Observe Launch II： Wrap Up.webm\n",
      "[download] 100% of  341.75KiB in 00:00:00 at 559.42KiB/s \n",
      "[ExtractAudio] Destination: docs/youtube/Observe Launch II： Wrap Up.mp3\n",
      "Deleting original file docs/youtube/Observe Launch II： Wrap Up.webm (pass -k to keep)\n",
      "Download complete. Audio file saved to docs/youtube/Observe Launch II： Wrap Up.mp3\n",
      "Loading Whisper model...\n",
      "Starting transcription...\n",
      "Transcription complete. Saving the transcription to a text file...\n",
      "Transcription saved to docs/youtube/Observe Launch II: Wrap Up.txt\n",
      " I love simple and dog-like. That's why I date men. Well, that's been the Observe Product Update. I hope you enjoyed it moderately more than the average tech product show. We'd love to hear from you, so thank you so much for tuning in. You know, at the end of the day, we're all just humans, standing before a monitor, asking it to please give us something meaningful.\n",
      "Starting download of the YouTube video: https://www.youtube.com/watch?v=Ya51VHNcABo\n",
      "[youtube] Extracting URL: https://www.youtube.com/watch?v=Ya51VHNcABo\n",
      "[youtube] Ya51VHNcABo: Downloading webpage\n",
      "[youtube] Ya51VHNcABo: Downloading ios player API JSON\n",
      "[youtube] Ya51VHNcABo: Downloading android player API JSON\n"
     ]
    },
    {
     "name": "stderr",
     "output_type": "stream",
     "text": [
      "WARNING: [youtube] Skipping player responses from android clients (got player responses for video \"aQvGIIdgFDM\" instead of \"Ya51VHNcABo\")\n"
     ]
    },
    {
     "name": "stdout",
     "output_type": "stream",
     "text": [
      "[youtube] Ya51VHNcABo: Downloading m3u8 information\n",
      "[info] Ya51VHNcABo: Downloading 1 format(s): 251\n",
      "[download] Destination: docs/youtube/Navigating Regulatory Compliance with Observability： A Modern Approach.webm\n",
      "[download] 100% of   30.62MiB in 00:00:02 at 10.45MiB/s    \n",
      "[ExtractAudio] Destination: docs/youtube/Navigating Regulatory Compliance with Observability： A Modern Approach.mp3\n",
      "Deleting original file docs/youtube/Navigating Regulatory Compliance with Observability： A Modern Approach.webm (pass -k to keep)\n",
      "Download complete. Audio file saved to docs/youtube/Navigating Regulatory Compliance with Observability： A Modern Approach.mp3\n",
      "Loading Whisper model...\n",
      "Starting transcription...\n"
     ]
    }
   ],
   "source": [
    "import os\n",
    "import warnings\n",
    "import json\n",
    "from googleapiclient.discovery import build\n",
    "from dotenv import load_dotenv\n",
    "import yt_dlp\n",
    "import whisper\n",
    "\n",
    "# Suppress specific warnings\n",
    "warnings.filterwarnings(\"ignore\", message=\"FP16 is not supported on CPU; using FP32 instead\")\n",
    "\n",
    "# Load environment variables from .env file\n",
    "load_dotenv()\n",
    "\n",
    "# YouTube Data API key\n",
    "youtube_api_key = os.getenv('GOOGLE_API_KEY')\n",
    "openai_api_key = os.getenv('OPENAI_API_KEY')\n",
    "\n",
    "# Initialize YouTube API client\n",
    "youtube = build('youtube', 'v3', developerKey=youtube_api_key)\n",
    "\n",
    "# Directory to save audio files\n",
    "save_dir = \"docs/youtube/\"\n",
    "os.makedirs(save_dir, exist_ok=True)\n",
    "\n",
    "# Path to Netscape formatted cookies file\n",
    "cookies_file = \"/Users/wyliebrown/langchain_demo/cookies.txt\"\n",
    "ffmpeg_location = \"/opt/homebrew/bin/ffmpeg\"\n",
    "\n",
    "# Channel ID of the YouTube channel\n",
    "channel_id = 'UCv6fXd6_h-Hjuo9K6ieYaDQ'\n",
    "\n",
    "def get_video_urls_from_channel(channel_id):\n",
    "    video_urls = []\n",
    "    next_page_token = None\n",
    "\n",
    "    while True:\n",
    "        request = youtube.search().list(\n",
    "            part=\"snippet\",\n",
    "            channelId=channel_id,\n",
    "            maxResults=50,\n",
    "            pageToken=next_page_token,\n",
    "            type=\"video\"\n",
    "        )\n",
    "        response = request.execute()\n",
    "\n",
    "        for item in response['items']:\n",
    "            video_urls.append(f\"https://www.youtube.com/watch?v={item['id']['videoId']}\")\n",
    "\n",
    "        next_page_token = response.get('nextPageToken')\n",
    "        if not next_page_token:\n",
    "            break\n",
    "\n",
    "    return video_urls\n",
    "\n",
    "def download_and_transcribe(url):\n",
    "    ydl_opts = {\n",
    "        'format': 'bestaudio/best',\n",
    "        'outtmpl': os.path.join(save_dir, '%(title)s.%(ext)s'),\n",
    "        'postprocessors': [{\n",
    "            'key': 'FFmpegExtractAudio',\n",
    "            'preferredcodec': 'mp3',\n",
    "            'preferredquality': '192',\n",
    "        }],\n",
    "        'cookiefile': cookies_file,\n",
    "        'ffmpeg_location': ffmpeg_location\n",
    "    }\n",
    "\n",
    "    print(f\"Starting download of the YouTube video: {url}\")\n",
    "\n",
    "    with yt_dlp.YoutubeDL(ydl_opts) as ydl:\n",
    "        info_dict = ydl.extract_info(url, download=True)\n",
    "        audio_file_path = ydl.prepare_filename(info_dict).replace('.webm', '.mp3')\n",
    "\n",
    "    print(f\"Download complete. Audio file saved to {audio_file_path}\")\n",
    "\n",
    "    # Initialize the Whisper model\n",
    "    print(\"Loading Whisper model...\")\n",
    "    model = whisper.load_model(\"base\")\n",
    "\n",
    "    # Transcribe the audio file\n",
    "    print(\"Starting transcription...\")\n",
    "    result = model.transcribe(audio_file_path)\n",
    "\n",
    "    print(\"Transcription complete. Saving the transcription to a text file...\")\n",
    "\n",
    "    # Save the transcription to a text file\n",
    "    transcription_file_path = os.path.join(save_dir, info_dict['title'] + \".txt\")\n",
    "    with open(transcription_file_path, \"w\") as f:\n",
    "        f.write(result[\"text\"])\n",
    "\n",
    "    print(f\"Transcription saved to {transcription_file_path}\")\n",
    "    print(result[\"text\"][:500])\n",
    "\n",
    "# Get all video URLs from the channel\n",
    "video_urls = get_video_urls_from_channel(channel_id)\n",
    "\n",
    "# Download and transcribe each video\n",
    "for url in video_urls:\n",
    "    download_and_transcribe(url)\n"
   ]
  },
  {
   "cell_type": "code",
   "execution_count": null,
   "id": "ea4ad42d-6963-4f27-8973-7d6579779461",
   "metadata": {},
   "outputs": [],
   "source": []
  }
 ],
 "metadata": {
  "kernelspec": {
   "display_name": "Python 3 (ipykernel)",
   "language": "python",
   "name": "python3"
  },
  "language_info": {
   "codemirror_mode": {
    "name": "ipython",
    "version": 3
   },
   "file_extension": ".py",
   "mimetype": "text/x-python",
   "name": "python",
   "nbconvert_exporter": "python",
   "pygments_lexer": "ipython3",
   "version": "3.11.7"
  }
 },
 "nbformat": 4,
 "nbformat_minor": 5
}
